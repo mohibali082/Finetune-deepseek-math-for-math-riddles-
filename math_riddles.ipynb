{
  "nbformat": 4,
  "nbformat_minor": 0,
  "metadata": {
    "colab": {
      "provenance": [],
      "gpuType": "T4"
    },
    "kernelspec": {
      "name": "python3",
      "display_name": "Python 3"
    },
    "language_info": {
      "name": "python"
    },
    "accelerator": "GPU",
    "widgets": {
      "application/vnd.jupyter.widget-state+json": {
        "fd749d80ef754835956295d6caaa2365": {
          "model_module": "@jupyter-widgets/controls",
          "model_name": "HBoxModel",
          "model_module_version": "1.5.0",
          "state": {
            "_dom_classes": [],
            "_model_module": "@jupyter-widgets/controls",
            "_model_module_version": "1.5.0",
            "_model_name": "HBoxModel",
            "_view_count": null,
            "_view_module": "@jupyter-widgets/controls",
            "_view_module_version": "1.5.0",
            "_view_name": "HBoxView",
            "box_style": "",
            "children": [
              "IPY_MODEL_285231485df648839fe2dba61708ee16",
              "IPY_MODEL_4c7d02232c2242eebf4c70d088f98eb2",
              "IPY_MODEL_0328eb206f574202aa390bd5cf5538c9"
            ],
            "layout": "IPY_MODEL_53944b13e4434bfeb23d7ee39276c023"
          }
        },
        "285231485df648839fe2dba61708ee16": {
          "model_module": "@jupyter-widgets/controls",
          "model_name": "HTMLModel",
          "model_module_version": "1.5.0",
          "state": {
            "_dom_classes": [],
            "_model_module": "@jupyter-widgets/controls",
            "_model_module_version": "1.5.0",
            "_model_name": "HTMLModel",
            "_view_count": null,
            "_view_module": "@jupyter-widgets/controls",
            "_view_module_version": "1.5.0",
            "_view_name": "HTMLView",
            "description": "",
            "description_tooltip": null,
            "layout": "IPY_MODEL_6f5eec2e043d43f1bfee5e5c93359366",
            "placeholder": "​",
            "style": "IPY_MODEL_9324861cfd9b4c979be7d5d7a4a965fe",
            "value": "Loading checkpoint shards: 100%"
          }
        },
        "4c7d02232c2242eebf4c70d088f98eb2": {
          "model_module": "@jupyter-widgets/controls",
          "model_name": "FloatProgressModel",
          "model_module_version": "1.5.0",
          "state": {
            "_dom_classes": [],
            "_model_module": "@jupyter-widgets/controls",
            "_model_module_version": "1.5.0",
            "_model_name": "FloatProgressModel",
            "_view_count": null,
            "_view_module": "@jupyter-widgets/controls",
            "_view_module_version": "1.5.0",
            "_view_name": "ProgressView",
            "bar_style": "success",
            "description": "",
            "description_tooltip": null,
            "layout": "IPY_MODEL_7c52b6476b434e8dbdce7daf63e773dc",
            "max": 2,
            "min": 0,
            "orientation": "horizontal",
            "style": "IPY_MODEL_b153fe9cde534ddab70000b23378f59b",
            "value": 2
          }
        },
        "0328eb206f574202aa390bd5cf5538c9": {
          "model_module": "@jupyter-widgets/controls",
          "model_name": "HTMLModel",
          "model_module_version": "1.5.0",
          "state": {
            "_dom_classes": [],
            "_model_module": "@jupyter-widgets/controls",
            "_model_module_version": "1.5.0",
            "_model_name": "HTMLModel",
            "_view_count": null,
            "_view_module": "@jupyter-widgets/controls",
            "_view_module_version": "1.5.0",
            "_view_name": "HTMLView",
            "description": "",
            "description_tooltip": null,
            "layout": "IPY_MODEL_b9bd7e73d90c458f8f1a8701ebb03377",
            "placeholder": "​",
            "style": "IPY_MODEL_492dba368f6348d28808acdd7c01f452",
            "value": " 2/2 [01:05&lt;00:00, 30.16s/it]"
          }
        },
        "53944b13e4434bfeb23d7ee39276c023": {
          "model_module": "@jupyter-widgets/base",
          "model_name": "LayoutModel",
          "model_module_version": "1.2.0",
          "state": {
            "_model_module": "@jupyter-widgets/base",
            "_model_module_version": "1.2.0",
            "_model_name": "LayoutModel",
            "_view_count": null,
            "_view_module": "@jupyter-widgets/base",
            "_view_module_version": "1.2.0",
            "_view_name": "LayoutView",
            "align_content": null,
            "align_items": null,
            "align_self": null,
            "border": null,
            "bottom": null,
            "display": null,
            "flex": null,
            "flex_flow": null,
            "grid_area": null,
            "grid_auto_columns": null,
            "grid_auto_flow": null,
            "grid_auto_rows": null,
            "grid_column": null,
            "grid_gap": null,
            "grid_row": null,
            "grid_template_areas": null,
            "grid_template_columns": null,
            "grid_template_rows": null,
            "height": null,
            "justify_content": null,
            "justify_items": null,
            "left": null,
            "margin": null,
            "max_height": null,
            "max_width": null,
            "min_height": null,
            "min_width": null,
            "object_fit": null,
            "object_position": null,
            "order": null,
            "overflow": null,
            "overflow_x": null,
            "overflow_y": null,
            "padding": null,
            "right": null,
            "top": null,
            "visibility": null,
            "width": null
          }
        },
        "6f5eec2e043d43f1bfee5e5c93359366": {
          "model_module": "@jupyter-widgets/base",
          "model_name": "LayoutModel",
          "model_module_version": "1.2.0",
          "state": {
            "_model_module": "@jupyter-widgets/base",
            "_model_module_version": "1.2.0",
            "_model_name": "LayoutModel",
            "_view_count": null,
            "_view_module": "@jupyter-widgets/base",
            "_view_module_version": "1.2.0",
            "_view_name": "LayoutView",
            "align_content": null,
            "align_items": null,
            "align_self": null,
            "border": null,
            "bottom": null,
            "display": null,
            "flex": null,
            "flex_flow": null,
            "grid_area": null,
            "grid_auto_columns": null,
            "grid_auto_flow": null,
            "grid_auto_rows": null,
            "grid_column": null,
            "grid_gap": null,
            "grid_row": null,
            "grid_template_areas": null,
            "grid_template_columns": null,
            "grid_template_rows": null,
            "height": null,
            "justify_content": null,
            "justify_items": null,
            "left": null,
            "margin": null,
            "max_height": null,
            "max_width": null,
            "min_height": null,
            "min_width": null,
            "object_fit": null,
            "object_position": null,
            "order": null,
            "overflow": null,
            "overflow_x": null,
            "overflow_y": null,
            "padding": null,
            "right": null,
            "top": null,
            "visibility": null,
            "width": null
          }
        },
        "9324861cfd9b4c979be7d5d7a4a965fe": {
          "model_module": "@jupyter-widgets/controls",
          "model_name": "DescriptionStyleModel",
          "model_module_version": "1.5.0",
          "state": {
            "_model_module": "@jupyter-widgets/controls",
            "_model_module_version": "1.5.0",
            "_model_name": "DescriptionStyleModel",
            "_view_count": null,
            "_view_module": "@jupyter-widgets/base",
            "_view_module_version": "1.2.0",
            "_view_name": "StyleView",
            "description_width": ""
          }
        },
        "7c52b6476b434e8dbdce7daf63e773dc": {
          "model_module": "@jupyter-widgets/base",
          "model_name": "LayoutModel",
          "model_module_version": "1.2.0",
          "state": {
            "_model_module": "@jupyter-widgets/base",
            "_model_module_version": "1.2.0",
            "_model_name": "LayoutModel",
            "_view_count": null,
            "_view_module": "@jupyter-widgets/base",
            "_view_module_version": "1.2.0",
            "_view_name": "LayoutView",
            "align_content": null,
            "align_items": null,
            "align_self": null,
            "border": null,
            "bottom": null,
            "display": null,
            "flex": null,
            "flex_flow": null,
            "grid_area": null,
            "grid_auto_columns": null,
            "grid_auto_flow": null,
            "grid_auto_rows": null,
            "grid_column": null,
            "grid_gap": null,
            "grid_row": null,
            "grid_template_areas": null,
            "grid_template_columns": null,
            "grid_template_rows": null,
            "height": null,
            "justify_content": null,
            "justify_items": null,
            "left": null,
            "margin": null,
            "max_height": null,
            "max_width": null,
            "min_height": null,
            "min_width": null,
            "object_fit": null,
            "object_position": null,
            "order": null,
            "overflow": null,
            "overflow_x": null,
            "overflow_y": null,
            "padding": null,
            "right": null,
            "top": null,
            "visibility": null,
            "width": null
          }
        },
        "b153fe9cde534ddab70000b23378f59b": {
          "model_module": "@jupyter-widgets/controls",
          "model_name": "ProgressStyleModel",
          "model_module_version": "1.5.0",
          "state": {
            "_model_module": "@jupyter-widgets/controls",
            "_model_module_version": "1.5.0",
            "_model_name": "ProgressStyleModel",
            "_view_count": null,
            "_view_module": "@jupyter-widgets/base",
            "_view_module_version": "1.2.0",
            "_view_name": "StyleView",
            "bar_color": null,
            "description_width": ""
          }
        },
        "b9bd7e73d90c458f8f1a8701ebb03377": {
          "model_module": "@jupyter-widgets/base",
          "model_name": "LayoutModel",
          "model_module_version": "1.2.0",
          "state": {
            "_model_module": "@jupyter-widgets/base",
            "_model_module_version": "1.2.0",
            "_model_name": "LayoutModel",
            "_view_count": null,
            "_view_module": "@jupyter-widgets/base",
            "_view_module_version": "1.2.0",
            "_view_name": "LayoutView",
            "align_content": null,
            "align_items": null,
            "align_self": null,
            "border": null,
            "bottom": null,
            "display": null,
            "flex": null,
            "flex_flow": null,
            "grid_area": null,
            "grid_auto_columns": null,
            "grid_auto_flow": null,
            "grid_auto_rows": null,
            "grid_column": null,
            "grid_gap": null,
            "grid_row": null,
            "grid_template_areas": null,
            "grid_template_columns": null,
            "grid_template_rows": null,
            "height": null,
            "justify_content": null,
            "justify_items": null,
            "left": null,
            "margin": null,
            "max_height": null,
            "max_width": null,
            "min_height": null,
            "min_width": null,
            "object_fit": null,
            "object_position": null,
            "order": null,
            "overflow": null,
            "overflow_x": null,
            "overflow_y": null,
            "padding": null,
            "right": null,
            "top": null,
            "visibility": null,
            "width": null
          }
        },
        "492dba368f6348d28808acdd7c01f452": {
          "model_module": "@jupyter-widgets/controls",
          "model_name": "DescriptionStyleModel",
          "model_module_version": "1.5.0",
          "state": {
            "_model_module": "@jupyter-widgets/controls",
            "_model_module_version": "1.5.0",
            "_model_name": "DescriptionStyleModel",
            "_view_count": null,
            "_view_module": "@jupyter-widgets/base",
            "_view_module_version": "1.2.0",
            "_view_name": "StyleView",
            "description_width": ""
          }
        },
        "92b02bdd670e4446964ece596646e4af": {
          "model_module": "@jupyter-widgets/controls",
          "model_name": "HBoxModel",
          "model_module_version": "1.5.0",
          "state": {
            "_dom_classes": [],
            "_model_module": "@jupyter-widgets/controls",
            "_model_module_version": "1.5.0",
            "_model_name": "HBoxModel",
            "_view_count": null,
            "_view_module": "@jupyter-widgets/controls",
            "_view_module_version": "1.5.0",
            "_view_name": "HBoxView",
            "box_style": "",
            "children": [
              "IPY_MODEL_8908ba7e52414c7a8e3099e9aca0b264",
              "IPY_MODEL_25af9bd025424d03977a35a01b91a799",
              "IPY_MODEL_250476b2eb6e4c5b8068f4fe75dd4db0"
            ],
            "layout": "IPY_MODEL_390e27379e6a4cbf948e68eb2cb3a16d"
          }
        },
        "8908ba7e52414c7a8e3099e9aca0b264": {
          "model_module": "@jupyter-widgets/controls",
          "model_name": "HTMLModel",
          "model_module_version": "1.5.0",
          "state": {
            "_dom_classes": [],
            "_model_module": "@jupyter-widgets/controls",
            "_model_module_version": "1.5.0",
            "_model_name": "HTMLModel",
            "_view_count": null,
            "_view_module": "@jupyter-widgets/controls",
            "_view_module_version": "1.5.0",
            "_view_name": "HTMLView",
            "description": "",
            "description_tooltip": null,
            "layout": "IPY_MODEL_e9de57f15c3d4e63855dfb6a49d8618c",
            "placeholder": "​",
            "style": "IPY_MODEL_9599b2e72e3444e788baf2dc476e5ea2",
            "value": "Map: 100%"
          }
        },
        "25af9bd025424d03977a35a01b91a799": {
          "model_module": "@jupyter-widgets/controls",
          "model_name": "FloatProgressModel",
          "model_module_version": "1.5.0",
          "state": {
            "_dom_classes": [],
            "_model_module": "@jupyter-widgets/controls",
            "_model_module_version": "1.5.0",
            "_model_name": "FloatProgressModel",
            "_view_count": null,
            "_view_module": "@jupyter-widgets/controls",
            "_view_module_version": "1.5.0",
            "_view_name": "ProgressView",
            "bar_style": "success",
            "description": "",
            "description_tooltip": null,
            "layout": "IPY_MODEL_0eb3f80f9b924daa99db4ac9a699c083",
            "max": 15,
            "min": 0,
            "orientation": "horizontal",
            "style": "IPY_MODEL_1530a2c78a9847c5bedfe433e42cc59a",
            "value": 15
          }
        },
        "250476b2eb6e4c5b8068f4fe75dd4db0": {
          "model_module": "@jupyter-widgets/controls",
          "model_name": "HTMLModel",
          "model_module_version": "1.5.0",
          "state": {
            "_dom_classes": [],
            "_model_module": "@jupyter-widgets/controls",
            "_model_module_version": "1.5.0",
            "_model_name": "HTMLModel",
            "_view_count": null,
            "_view_module": "@jupyter-widgets/controls",
            "_view_module_version": "1.5.0",
            "_view_name": "HTMLView",
            "description": "",
            "description_tooltip": null,
            "layout": "IPY_MODEL_2cd386f3ab4c42e7b9cab24362de27a6",
            "placeholder": "​",
            "style": "IPY_MODEL_b2c3a332ea4f48e0ac1adbe8f57b9637",
            "value": " 15/15 [00:00&lt;00:00, 170.76 examples/s]"
          }
        },
        "390e27379e6a4cbf948e68eb2cb3a16d": {
          "model_module": "@jupyter-widgets/base",
          "model_name": "LayoutModel",
          "model_module_version": "1.2.0",
          "state": {
            "_model_module": "@jupyter-widgets/base",
            "_model_module_version": "1.2.0",
            "_model_name": "LayoutModel",
            "_view_count": null,
            "_view_module": "@jupyter-widgets/base",
            "_view_module_version": "1.2.0",
            "_view_name": "LayoutView",
            "align_content": null,
            "align_items": null,
            "align_self": null,
            "border": null,
            "bottom": null,
            "display": null,
            "flex": null,
            "flex_flow": null,
            "grid_area": null,
            "grid_auto_columns": null,
            "grid_auto_flow": null,
            "grid_auto_rows": null,
            "grid_column": null,
            "grid_gap": null,
            "grid_row": null,
            "grid_template_areas": null,
            "grid_template_columns": null,
            "grid_template_rows": null,
            "height": null,
            "justify_content": null,
            "justify_items": null,
            "left": null,
            "margin": null,
            "max_height": null,
            "max_width": null,
            "min_height": null,
            "min_width": null,
            "object_fit": null,
            "object_position": null,
            "order": null,
            "overflow": null,
            "overflow_x": null,
            "overflow_y": null,
            "padding": null,
            "right": null,
            "top": null,
            "visibility": null,
            "width": null
          }
        },
        "e9de57f15c3d4e63855dfb6a49d8618c": {
          "model_module": "@jupyter-widgets/base",
          "model_name": "LayoutModel",
          "model_module_version": "1.2.0",
          "state": {
            "_model_module": "@jupyter-widgets/base",
            "_model_module_version": "1.2.0",
            "_model_name": "LayoutModel",
            "_view_count": null,
            "_view_module": "@jupyter-widgets/base",
            "_view_module_version": "1.2.0",
            "_view_name": "LayoutView",
            "align_content": null,
            "align_items": null,
            "align_self": null,
            "border": null,
            "bottom": null,
            "display": null,
            "flex": null,
            "flex_flow": null,
            "grid_area": null,
            "grid_auto_columns": null,
            "grid_auto_flow": null,
            "grid_auto_rows": null,
            "grid_column": null,
            "grid_gap": null,
            "grid_row": null,
            "grid_template_areas": null,
            "grid_template_columns": null,
            "grid_template_rows": null,
            "height": null,
            "justify_content": null,
            "justify_items": null,
            "left": null,
            "margin": null,
            "max_height": null,
            "max_width": null,
            "min_height": null,
            "min_width": null,
            "object_fit": null,
            "object_position": null,
            "order": null,
            "overflow": null,
            "overflow_x": null,
            "overflow_y": null,
            "padding": null,
            "right": null,
            "top": null,
            "visibility": null,
            "width": null
          }
        },
        "9599b2e72e3444e788baf2dc476e5ea2": {
          "model_module": "@jupyter-widgets/controls",
          "model_name": "DescriptionStyleModel",
          "model_module_version": "1.5.0",
          "state": {
            "_model_module": "@jupyter-widgets/controls",
            "_model_module_version": "1.5.0",
            "_model_name": "DescriptionStyleModel",
            "_view_count": null,
            "_view_module": "@jupyter-widgets/base",
            "_view_module_version": "1.2.0",
            "_view_name": "StyleView",
            "description_width": ""
          }
        },
        "0eb3f80f9b924daa99db4ac9a699c083": {
          "model_module": "@jupyter-widgets/base",
          "model_name": "LayoutModel",
          "model_module_version": "1.2.0",
          "state": {
            "_model_module": "@jupyter-widgets/base",
            "_model_module_version": "1.2.0",
            "_model_name": "LayoutModel",
            "_view_count": null,
            "_view_module": "@jupyter-widgets/base",
            "_view_module_version": "1.2.0",
            "_view_name": "LayoutView",
            "align_content": null,
            "align_items": null,
            "align_self": null,
            "border": null,
            "bottom": null,
            "display": null,
            "flex": null,
            "flex_flow": null,
            "grid_area": null,
            "grid_auto_columns": null,
            "grid_auto_flow": null,
            "grid_auto_rows": null,
            "grid_column": null,
            "grid_gap": null,
            "grid_row": null,
            "grid_template_areas": null,
            "grid_template_columns": null,
            "grid_template_rows": null,
            "height": null,
            "justify_content": null,
            "justify_items": null,
            "left": null,
            "margin": null,
            "max_height": null,
            "max_width": null,
            "min_height": null,
            "min_width": null,
            "object_fit": null,
            "object_position": null,
            "order": null,
            "overflow": null,
            "overflow_x": null,
            "overflow_y": null,
            "padding": null,
            "right": null,
            "top": null,
            "visibility": null,
            "width": null
          }
        },
        "1530a2c78a9847c5bedfe433e42cc59a": {
          "model_module": "@jupyter-widgets/controls",
          "model_name": "ProgressStyleModel",
          "model_module_version": "1.5.0",
          "state": {
            "_model_module": "@jupyter-widgets/controls",
            "_model_module_version": "1.5.0",
            "_model_name": "ProgressStyleModel",
            "_view_count": null,
            "_view_module": "@jupyter-widgets/base",
            "_view_module_version": "1.2.0",
            "_view_name": "StyleView",
            "bar_color": null,
            "description_width": ""
          }
        },
        "2cd386f3ab4c42e7b9cab24362de27a6": {
          "model_module": "@jupyter-widgets/base",
          "model_name": "LayoutModel",
          "model_module_version": "1.2.0",
          "state": {
            "_model_module": "@jupyter-widgets/base",
            "_model_module_version": "1.2.0",
            "_model_name": "LayoutModel",
            "_view_count": null,
            "_view_module": "@jupyter-widgets/base",
            "_view_module_version": "1.2.0",
            "_view_name": "LayoutView",
            "align_content": null,
            "align_items": null,
            "align_self": null,
            "border": null,
            "bottom": null,
            "display": null,
            "flex": null,
            "flex_flow": null,
            "grid_area": null,
            "grid_auto_columns": null,
            "grid_auto_flow": null,
            "grid_auto_rows": null,
            "grid_column": null,
            "grid_gap": null,
            "grid_row": null,
            "grid_template_areas": null,
            "grid_template_columns": null,
            "grid_template_rows": null,
            "height": null,
            "justify_content": null,
            "justify_items": null,
            "left": null,
            "margin": null,
            "max_height": null,
            "max_width": null,
            "min_height": null,
            "min_width": null,
            "object_fit": null,
            "object_position": null,
            "order": null,
            "overflow": null,
            "overflow_x": null,
            "overflow_y": null,
            "padding": null,
            "right": null,
            "top": null,
            "visibility": null,
            "width": null
          }
        },
        "b2c3a332ea4f48e0ac1adbe8f57b9637": {
          "model_module": "@jupyter-widgets/controls",
          "model_name": "DescriptionStyleModel",
          "model_module_version": "1.5.0",
          "state": {
            "_model_module": "@jupyter-widgets/controls",
            "_model_module_version": "1.5.0",
            "_model_name": "DescriptionStyleModel",
            "_view_count": null,
            "_view_module": "@jupyter-widgets/base",
            "_view_module_version": "1.2.0",
            "_view_name": "StyleView",
            "description_width": ""
          }
        },
        "3e75004a4cc04b6ca0fe1b818bdd5891": {
          "model_module": "@jupyter-widgets/controls",
          "model_name": "VBoxModel",
          "model_module_version": "1.5.0",
          "state": {
            "_dom_classes": [],
            "_model_module": "@jupyter-widgets/controls",
            "_model_module_version": "1.5.0",
            "_model_name": "VBoxModel",
            "_view_count": null,
            "_view_module": "@jupyter-widgets/controls",
            "_view_module_version": "1.5.0",
            "_view_name": "VBoxView",
            "box_style": "",
            "children": [],
            "layout": "IPY_MODEL_a891ed415032443790d3eda695f616f9"
          }
        },
        "59df0906f5014312bd87a55f93f28053": {
          "model_module": "@jupyter-widgets/controls",
          "model_name": "HTMLModel",
          "model_module_version": "1.5.0",
          "state": {
            "_dom_classes": [],
            "_model_module": "@jupyter-widgets/controls",
            "_model_module_version": "1.5.0",
            "_model_name": "HTMLModel",
            "_view_count": null,
            "_view_module": "@jupyter-widgets/controls",
            "_view_module_version": "1.5.0",
            "_view_name": "HTMLView",
            "description": "",
            "description_tooltip": null,
            "layout": "IPY_MODEL_59a42267d1f1466e8d406d9440c713c1",
            "placeholder": "​",
            "style": "IPY_MODEL_807c4a6d55be48a384dee5ef08314e56",
            "value": "<center> <img\nsrc=https://huggingface.co/front/assets/huggingface_logo-noborder.svg\nalt='Hugging Face'> <br> Copy a token from <a\nhref=\"https://huggingface.co/settings/tokens\" target=\"_blank\">your Hugging Face\ntokens page</a> and paste it below. <br> Immediately click login after copying\nyour token or it might be stored in plain text in this notebook file. </center>"
          }
        },
        "25f3a173e7ab4bb9a79f6c400c180d0c": {
          "model_module": "@jupyter-widgets/controls",
          "model_name": "PasswordModel",
          "model_module_version": "1.5.0",
          "state": {
            "_dom_classes": [],
            "_model_module": "@jupyter-widgets/controls",
            "_model_module_version": "1.5.0",
            "_model_name": "PasswordModel",
            "_view_count": null,
            "_view_module": "@jupyter-widgets/controls",
            "_view_module_version": "1.5.0",
            "_view_name": "PasswordView",
            "continuous_update": true,
            "description": "Token:",
            "description_tooltip": null,
            "disabled": false,
            "layout": "IPY_MODEL_1a14062a237e4e878ebeb0bd9c50b6cd",
            "placeholder": "​",
            "style": "IPY_MODEL_48339cfa4e0f4eed97e550e5bfb9cd8b",
            "value": ""
          }
        },
        "a3716a2fcd4d4ed581ff52a8814f9ec4": {
          "model_module": "@jupyter-widgets/controls",
          "model_name": "CheckboxModel",
          "model_module_version": "1.5.0",
          "state": {
            "_dom_classes": [],
            "_model_module": "@jupyter-widgets/controls",
            "_model_module_version": "1.5.0",
            "_model_name": "CheckboxModel",
            "_view_count": null,
            "_view_module": "@jupyter-widgets/controls",
            "_view_module_version": "1.5.0",
            "_view_name": "CheckboxView",
            "description": "Add token as git credential?",
            "description_tooltip": null,
            "disabled": false,
            "indent": true,
            "layout": "IPY_MODEL_829351bb4a4746a8b7e3cba6fac20d99",
            "style": "IPY_MODEL_2fdfdd21ac554008a344d02c73e9c6db",
            "value": true
          }
        },
        "69707714faca4fb19645391cfd02f32b": {
          "model_module": "@jupyter-widgets/controls",
          "model_name": "ButtonModel",
          "model_module_version": "1.5.0",
          "state": {
            "_dom_classes": [],
            "_model_module": "@jupyter-widgets/controls",
            "_model_module_version": "1.5.0",
            "_model_name": "ButtonModel",
            "_view_count": null,
            "_view_module": "@jupyter-widgets/controls",
            "_view_module_version": "1.5.0",
            "_view_name": "ButtonView",
            "button_style": "",
            "description": "Login",
            "disabled": false,
            "icon": "",
            "layout": "IPY_MODEL_43f398d29fd44875a9b71afe8a205e77",
            "style": "IPY_MODEL_d38a196242464edbbdcc8c70711f9e0e",
            "tooltip": ""
          }
        },
        "50620c2715654c088ad6691c3ee9696f": {
          "model_module": "@jupyter-widgets/controls",
          "model_name": "HTMLModel",
          "model_module_version": "1.5.0",
          "state": {
            "_dom_classes": [],
            "_model_module": "@jupyter-widgets/controls",
            "_model_module_version": "1.5.0",
            "_model_name": "HTMLModel",
            "_view_count": null,
            "_view_module": "@jupyter-widgets/controls",
            "_view_module_version": "1.5.0",
            "_view_name": "HTMLView",
            "description": "",
            "description_tooltip": null,
            "layout": "IPY_MODEL_9245999492e848089c695f79f285d42d",
            "placeholder": "​",
            "style": "IPY_MODEL_c4f44432522e4c64a4f6582d72577924",
            "value": "\n<b>Pro Tip:</b> If you don't already have one, you can create a dedicated\n'notebooks' token with 'write' access, that you can then easily reuse for all\nnotebooks. </center>"
          }
        },
        "a891ed415032443790d3eda695f616f9": {
          "model_module": "@jupyter-widgets/base",
          "model_name": "LayoutModel",
          "model_module_version": "1.2.0",
          "state": {
            "_model_module": "@jupyter-widgets/base",
            "_model_module_version": "1.2.0",
            "_model_name": "LayoutModel",
            "_view_count": null,
            "_view_module": "@jupyter-widgets/base",
            "_view_module_version": "1.2.0",
            "_view_name": "LayoutView",
            "align_content": null,
            "align_items": "center",
            "align_self": null,
            "border": null,
            "bottom": null,
            "display": "flex",
            "flex": null,
            "flex_flow": "column",
            "grid_area": null,
            "grid_auto_columns": null,
            "grid_auto_flow": null,
            "grid_auto_rows": null,
            "grid_column": null,
            "grid_gap": null,
            "grid_row": null,
            "grid_template_areas": null,
            "grid_template_columns": null,
            "grid_template_rows": null,
            "height": null,
            "justify_content": null,
            "justify_items": null,
            "left": null,
            "margin": null,
            "max_height": null,
            "max_width": null,
            "min_height": null,
            "min_width": null,
            "object_fit": null,
            "object_position": null,
            "order": null,
            "overflow": null,
            "overflow_x": null,
            "overflow_y": null,
            "padding": null,
            "right": null,
            "top": null,
            "visibility": null,
            "width": "50%"
          }
        },
        "59a42267d1f1466e8d406d9440c713c1": {
          "model_module": "@jupyter-widgets/base",
          "model_name": "LayoutModel",
          "model_module_version": "1.2.0",
          "state": {
            "_model_module": "@jupyter-widgets/base",
            "_model_module_version": "1.2.0",
            "_model_name": "LayoutModel",
            "_view_count": null,
            "_view_module": "@jupyter-widgets/base",
            "_view_module_version": "1.2.0",
            "_view_name": "LayoutView",
            "align_content": null,
            "align_items": null,
            "align_self": null,
            "border": null,
            "bottom": null,
            "display": null,
            "flex": null,
            "flex_flow": null,
            "grid_area": null,
            "grid_auto_columns": null,
            "grid_auto_flow": null,
            "grid_auto_rows": null,
            "grid_column": null,
            "grid_gap": null,
            "grid_row": null,
            "grid_template_areas": null,
            "grid_template_columns": null,
            "grid_template_rows": null,
            "height": null,
            "justify_content": null,
            "justify_items": null,
            "left": null,
            "margin": null,
            "max_height": null,
            "max_width": null,
            "min_height": null,
            "min_width": null,
            "object_fit": null,
            "object_position": null,
            "order": null,
            "overflow": null,
            "overflow_x": null,
            "overflow_y": null,
            "padding": null,
            "right": null,
            "top": null,
            "visibility": null,
            "width": null
          }
        },
        "807c4a6d55be48a384dee5ef08314e56": {
          "model_module": "@jupyter-widgets/controls",
          "model_name": "DescriptionStyleModel",
          "model_module_version": "1.5.0",
          "state": {
            "_model_module": "@jupyter-widgets/controls",
            "_model_module_version": "1.5.0",
            "_model_name": "DescriptionStyleModel",
            "_view_count": null,
            "_view_module": "@jupyter-widgets/base",
            "_view_module_version": "1.2.0",
            "_view_name": "StyleView",
            "description_width": ""
          }
        },
        "1a14062a237e4e878ebeb0bd9c50b6cd": {
          "model_module": "@jupyter-widgets/base",
          "model_name": "LayoutModel",
          "model_module_version": "1.2.0",
          "state": {
            "_model_module": "@jupyter-widgets/base",
            "_model_module_version": "1.2.0",
            "_model_name": "LayoutModel",
            "_view_count": null,
            "_view_module": "@jupyter-widgets/base",
            "_view_module_version": "1.2.0",
            "_view_name": "LayoutView",
            "align_content": null,
            "align_items": null,
            "align_self": null,
            "border": null,
            "bottom": null,
            "display": null,
            "flex": null,
            "flex_flow": null,
            "grid_area": null,
            "grid_auto_columns": null,
            "grid_auto_flow": null,
            "grid_auto_rows": null,
            "grid_column": null,
            "grid_gap": null,
            "grid_row": null,
            "grid_template_areas": null,
            "grid_template_columns": null,
            "grid_template_rows": null,
            "height": null,
            "justify_content": null,
            "justify_items": null,
            "left": null,
            "margin": null,
            "max_height": null,
            "max_width": null,
            "min_height": null,
            "min_width": null,
            "object_fit": null,
            "object_position": null,
            "order": null,
            "overflow": null,
            "overflow_x": null,
            "overflow_y": null,
            "padding": null,
            "right": null,
            "top": null,
            "visibility": null,
            "width": null
          }
        },
        "48339cfa4e0f4eed97e550e5bfb9cd8b": {
          "model_module": "@jupyter-widgets/controls",
          "model_name": "DescriptionStyleModel",
          "model_module_version": "1.5.0",
          "state": {
            "_model_module": "@jupyter-widgets/controls",
            "_model_module_version": "1.5.0",
            "_model_name": "DescriptionStyleModel",
            "_view_count": null,
            "_view_module": "@jupyter-widgets/base",
            "_view_module_version": "1.2.0",
            "_view_name": "StyleView",
            "description_width": ""
          }
        },
        "829351bb4a4746a8b7e3cba6fac20d99": {
          "model_module": "@jupyter-widgets/base",
          "model_name": "LayoutModel",
          "model_module_version": "1.2.0",
          "state": {
            "_model_module": "@jupyter-widgets/base",
            "_model_module_version": "1.2.0",
            "_model_name": "LayoutModel",
            "_view_count": null,
            "_view_module": "@jupyter-widgets/base",
            "_view_module_version": "1.2.0",
            "_view_name": "LayoutView",
            "align_content": null,
            "align_items": null,
            "align_self": null,
            "border": null,
            "bottom": null,
            "display": null,
            "flex": null,
            "flex_flow": null,
            "grid_area": null,
            "grid_auto_columns": null,
            "grid_auto_flow": null,
            "grid_auto_rows": null,
            "grid_column": null,
            "grid_gap": null,
            "grid_row": null,
            "grid_template_areas": null,
            "grid_template_columns": null,
            "grid_template_rows": null,
            "height": null,
            "justify_content": null,
            "justify_items": null,
            "left": null,
            "margin": null,
            "max_height": null,
            "max_width": null,
            "min_height": null,
            "min_width": null,
            "object_fit": null,
            "object_position": null,
            "order": null,
            "overflow": null,
            "overflow_x": null,
            "overflow_y": null,
            "padding": null,
            "right": null,
            "top": null,
            "visibility": null,
            "width": null
          }
        },
        "2fdfdd21ac554008a344d02c73e9c6db": {
          "model_module": "@jupyter-widgets/controls",
          "model_name": "DescriptionStyleModel",
          "model_module_version": "1.5.0",
          "state": {
            "_model_module": "@jupyter-widgets/controls",
            "_model_module_version": "1.5.0",
            "_model_name": "DescriptionStyleModel",
            "_view_count": null,
            "_view_module": "@jupyter-widgets/base",
            "_view_module_version": "1.2.0",
            "_view_name": "StyleView",
            "description_width": ""
          }
        },
        "43f398d29fd44875a9b71afe8a205e77": {
          "model_module": "@jupyter-widgets/base",
          "model_name": "LayoutModel",
          "model_module_version": "1.2.0",
          "state": {
            "_model_module": "@jupyter-widgets/base",
            "_model_module_version": "1.2.0",
            "_model_name": "LayoutModel",
            "_view_count": null,
            "_view_module": "@jupyter-widgets/base",
            "_view_module_version": "1.2.0",
            "_view_name": "LayoutView",
            "align_content": null,
            "align_items": null,
            "align_self": null,
            "border": null,
            "bottom": null,
            "display": null,
            "flex": null,
            "flex_flow": null,
            "grid_area": null,
            "grid_auto_columns": null,
            "grid_auto_flow": null,
            "grid_auto_rows": null,
            "grid_column": null,
            "grid_gap": null,
            "grid_row": null,
            "grid_template_areas": null,
            "grid_template_columns": null,
            "grid_template_rows": null,
            "height": null,
            "justify_content": null,
            "justify_items": null,
            "left": null,
            "margin": null,
            "max_height": null,
            "max_width": null,
            "min_height": null,
            "min_width": null,
            "object_fit": null,
            "object_position": null,
            "order": null,
            "overflow": null,
            "overflow_x": null,
            "overflow_y": null,
            "padding": null,
            "right": null,
            "top": null,
            "visibility": null,
            "width": null
          }
        },
        "d38a196242464edbbdcc8c70711f9e0e": {
          "model_module": "@jupyter-widgets/controls",
          "model_name": "ButtonStyleModel",
          "model_module_version": "1.5.0",
          "state": {
            "_model_module": "@jupyter-widgets/controls",
            "_model_module_version": "1.5.0",
            "_model_name": "ButtonStyleModel",
            "_view_count": null,
            "_view_module": "@jupyter-widgets/base",
            "_view_module_version": "1.2.0",
            "_view_name": "StyleView",
            "button_color": null,
            "font_weight": ""
          }
        },
        "9245999492e848089c695f79f285d42d": {
          "model_module": "@jupyter-widgets/base",
          "model_name": "LayoutModel",
          "model_module_version": "1.2.0",
          "state": {
            "_model_module": "@jupyter-widgets/base",
            "_model_module_version": "1.2.0",
            "_model_name": "LayoutModel",
            "_view_count": null,
            "_view_module": "@jupyter-widgets/base",
            "_view_module_version": "1.2.0",
            "_view_name": "LayoutView",
            "align_content": null,
            "align_items": null,
            "align_self": null,
            "border": null,
            "bottom": null,
            "display": null,
            "flex": null,
            "flex_flow": null,
            "grid_area": null,
            "grid_auto_columns": null,
            "grid_auto_flow": null,
            "grid_auto_rows": null,
            "grid_column": null,
            "grid_gap": null,
            "grid_row": null,
            "grid_template_areas": null,
            "grid_template_columns": null,
            "grid_template_rows": null,
            "height": null,
            "justify_content": null,
            "justify_items": null,
            "left": null,
            "margin": null,
            "max_height": null,
            "max_width": null,
            "min_height": null,
            "min_width": null,
            "object_fit": null,
            "object_position": null,
            "order": null,
            "overflow": null,
            "overflow_x": null,
            "overflow_y": null,
            "padding": null,
            "right": null,
            "top": null,
            "visibility": null,
            "width": null
          }
        },
        "c4f44432522e4c64a4f6582d72577924": {
          "model_module": "@jupyter-widgets/controls",
          "model_name": "DescriptionStyleModel",
          "model_module_version": "1.5.0",
          "state": {
            "_model_module": "@jupyter-widgets/controls",
            "_model_module_version": "1.5.0",
            "_model_name": "DescriptionStyleModel",
            "_view_count": null,
            "_view_module": "@jupyter-widgets/base",
            "_view_module_version": "1.2.0",
            "_view_name": "StyleView",
            "description_width": ""
          }
        },
        "696fe18fa5564814ab04cb3441889a53": {
          "model_module": "@jupyter-widgets/controls",
          "model_name": "LabelModel",
          "model_module_version": "1.5.0",
          "state": {
            "_dom_classes": [],
            "_model_module": "@jupyter-widgets/controls",
            "_model_module_version": "1.5.0",
            "_model_name": "LabelModel",
            "_view_count": null,
            "_view_module": "@jupyter-widgets/controls",
            "_view_module_version": "1.5.0",
            "_view_name": "LabelView",
            "description": "",
            "description_tooltip": null,
            "layout": "IPY_MODEL_e437bcc8e041491f8a3a94b1265a3891",
            "placeholder": "​",
            "style": "IPY_MODEL_68f60e2f2ce14722b2c65ab88d583290",
            "value": "Connecting..."
          }
        },
        "e437bcc8e041491f8a3a94b1265a3891": {
          "model_module": "@jupyter-widgets/base",
          "model_name": "LayoutModel",
          "model_module_version": "1.2.0",
          "state": {
            "_model_module": "@jupyter-widgets/base",
            "_model_module_version": "1.2.0",
            "_model_name": "LayoutModel",
            "_view_count": null,
            "_view_module": "@jupyter-widgets/base",
            "_view_module_version": "1.2.0",
            "_view_name": "LayoutView",
            "align_content": null,
            "align_items": null,
            "align_self": null,
            "border": null,
            "bottom": null,
            "display": null,
            "flex": null,
            "flex_flow": null,
            "grid_area": null,
            "grid_auto_columns": null,
            "grid_auto_flow": null,
            "grid_auto_rows": null,
            "grid_column": null,
            "grid_gap": null,
            "grid_row": null,
            "grid_template_areas": null,
            "grid_template_columns": null,
            "grid_template_rows": null,
            "height": null,
            "justify_content": null,
            "justify_items": null,
            "left": null,
            "margin": null,
            "max_height": null,
            "max_width": null,
            "min_height": null,
            "min_width": null,
            "object_fit": null,
            "object_position": null,
            "order": null,
            "overflow": null,
            "overflow_x": null,
            "overflow_y": null,
            "padding": null,
            "right": null,
            "top": null,
            "visibility": null,
            "width": null
          }
        },
        "68f60e2f2ce14722b2c65ab88d583290": {
          "model_module": "@jupyter-widgets/controls",
          "model_name": "DescriptionStyleModel",
          "model_module_version": "1.5.0",
          "state": {
            "_model_module": "@jupyter-widgets/controls",
            "_model_module_version": "1.5.0",
            "_model_name": "DescriptionStyleModel",
            "_view_count": null,
            "_view_module": "@jupyter-widgets/base",
            "_view_module_version": "1.2.0",
            "_view_name": "StyleView",
            "description_width": ""
          }
        }
      }
    }
  },
  "cells": [
    {
      "cell_type": "code",
      "execution_count": 1,
      "metadata": {
        "colab": {
          "base_uri": "https://localhost:8080/",
          "height": 1000
        },
        "id": "6pgbp80y3RHK",
        "outputId": "4bc11eb4-e86f-4cef-e74e-0a864e9c1326"
      },
      "outputs": [
        {
          "output_type": "stream",
          "name": "stdout",
          "text": [
            "Requirement already satisfied: transformers in /usr/local/lib/python3.11/dist-packages (4.49.0)\n",
            "Collecting datasets\n",
            "  Downloading datasets-3.4.1-py3-none-any.whl.metadata (19 kB)\n",
            "Requirement already satisfied: torch in /usr/local/lib/python3.11/dist-packages (2.6.0+cu124)\n",
            "Requirement already satisfied: filelock in /usr/local/lib/python3.11/dist-packages (from transformers) (3.18.0)\n",
            "Requirement already satisfied: huggingface-hub<1.0,>=0.26.0 in /usr/local/lib/python3.11/dist-packages (from transformers) (0.29.3)\n",
            "Requirement already satisfied: numpy>=1.17 in /usr/local/lib/python3.11/dist-packages (from transformers) (2.0.2)\n",
            "Requirement already satisfied: packaging>=20.0 in /usr/local/lib/python3.11/dist-packages (from transformers) (24.2)\n",
            "Requirement already satisfied: pyyaml>=5.1 in /usr/local/lib/python3.11/dist-packages (from transformers) (6.0.2)\n",
            "Requirement already satisfied: regex!=2019.12.17 in /usr/local/lib/python3.11/dist-packages (from transformers) (2024.11.6)\n",
            "Requirement already satisfied: requests in /usr/local/lib/python3.11/dist-packages (from transformers) (2.32.3)\n",
            "Requirement already satisfied: tokenizers<0.22,>=0.21 in /usr/local/lib/python3.11/dist-packages (from transformers) (0.21.1)\n",
            "Requirement already satisfied: safetensors>=0.4.1 in /usr/local/lib/python3.11/dist-packages (from transformers) (0.5.3)\n",
            "Requirement already satisfied: tqdm>=4.27 in /usr/local/lib/python3.11/dist-packages (from transformers) (4.67.1)\n",
            "Requirement already satisfied: pyarrow>=15.0.0 in /usr/local/lib/python3.11/dist-packages (from datasets) (18.1.0)\n",
            "Collecting dill<0.3.9,>=0.3.0 (from datasets)\n",
            "  Downloading dill-0.3.8-py3-none-any.whl.metadata (10 kB)\n",
            "Requirement already satisfied: pandas in /usr/local/lib/python3.11/dist-packages (from datasets) (2.2.2)\n",
            "Collecting xxhash (from datasets)\n",
            "  Downloading xxhash-3.5.0-cp311-cp311-manylinux_2_17_x86_64.manylinux2014_x86_64.whl.metadata (12 kB)\n",
            "Collecting multiprocess<0.70.17 (from datasets)\n",
            "  Downloading multiprocess-0.70.16-py311-none-any.whl.metadata (7.2 kB)\n",
            "Collecting fsspec<=2024.12.0,>=2023.1.0 (from fsspec[http]<=2024.12.0,>=2023.1.0->datasets)\n",
            "  Downloading fsspec-2024.12.0-py3-none-any.whl.metadata (11 kB)\n",
            "Requirement already satisfied: aiohttp in /usr/local/lib/python3.11/dist-packages (from datasets) (3.11.14)\n",
            "Requirement already satisfied: typing-extensions>=4.10.0 in /usr/local/lib/python3.11/dist-packages (from torch) (4.12.2)\n",
            "Requirement already satisfied: networkx in /usr/local/lib/python3.11/dist-packages (from torch) (3.4.2)\n",
            "Requirement already satisfied: jinja2 in /usr/local/lib/python3.11/dist-packages (from torch) (3.1.6)\n",
            "Collecting nvidia-cuda-nvrtc-cu12==12.4.127 (from torch)\n",
            "  Downloading nvidia_cuda_nvrtc_cu12-12.4.127-py3-none-manylinux2014_x86_64.whl.metadata (1.5 kB)\n",
            "Collecting nvidia-cuda-runtime-cu12==12.4.127 (from torch)\n",
            "  Downloading nvidia_cuda_runtime_cu12-12.4.127-py3-none-manylinux2014_x86_64.whl.metadata (1.5 kB)\n",
            "Collecting nvidia-cuda-cupti-cu12==12.4.127 (from torch)\n",
            "  Downloading nvidia_cuda_cupti_cu12-12.4.127-py3-none-manylinux2014_x86_64.whl.metadata (1.6 kB)\n",
            "Collecting nvidia-cudnn-cu12==9.1.0.70 (from torch)\n",
            "  Downloading nvidia_cudnn_cu12-9.1.0.70-py3-none-manylinux2014_x86_64.whl.metadata (1.6 kB)\n",
            "Collecting nvidia-cublas-cu12==12.4.5.8 (from torch)\n",
            "  Downloading nvidia_cublas_cu12-12.4.5.8-py3-none-manylinux2014_x86_64.whl.metadata (1.5 kB)\n",
            "Collecting nvidia-cufft-cu12==11.2.1.3 (from torch)\n",
            "  Downloading nvidia_cufft_cu12-11.2.1.3-py3-none-manylinux2014_x86_64.whl.metadata (1.5 kB)\n",
            "Collecting nvidia-curand-cu12==10.3.5.147 (from torch)\n",
            "  Downloading nvidia_curand_cu12-10.3.5.147-py3-none-manylinux2014_x86_64.whl.metadata (1.5 kB)\n",
            "Collecting nvidia-cusolver-cu12==11.6.1.9 (from torch)\n",
            "  Downloading nvidia_cusolver_cu12-11.6.1.9-py3-none-manylinux2014_x86_64.whl.metadata (1.6 kB)\n",
            "Collecting nvidia-cusparse-cu12==12.3.1.170 (from torch)\n",
            "  Downloading nvidia_cusparse_cu12-12.3.1.170-py3-none-manylinux2014_x86_64.whl.metadata (1.6 kB)\n",
            "Requirement already satisfied: nvidia-cusparselt-cu12==0.6.2 in /usr/local/lib/python3.11/dist-packages (from torch) (0.6.2)\n",
            "Requirement already satisfied: nvidia-nccl-cu12==2.21.5 in /usr/local/lib/python3.11/dist-packages (from torch) (2.21.5)\n",
            "Requirement already satisfied: nvidia-nvtx-cu12==12.4.127 in /usr/local/lib/python3.11/dist-packages (from torch) (12.4.127)\n",
            "Collecting nvidia-nvjitlink-cu12==12.4.127 (from torch)\n",
            "  Downloading nvidia_nvjitlink_cu12-12.4.127-py3-none-manylinux2014_x86_64.whl.metadata (1.5 kB)\n",
            "Requirement already satisfied: triton==3.2.0 in /usr/local/lib/python3.11/dist-packages (from torch) (3.2.0)\n",
            "Requirement already satisfied: sympy==1.13.1 in /usr/local/lib/python3.11/dist-packages (from torch) (1.13.1)\n",
            "Requirement already satisfied: mpmath<1.4,>=1.1.0 in /usr/local/lib/python3.11/dist-packages (from sympy==1.13.1->torch) (1.3.0)\n",
            "Requirement already satisfied: aiohappyeyeballs>=2.3.0 in /usr/local/lib/python3.11/dist-packages (from aiohttp->datasets) (2.6.1)\n",
            "Requirement already satisfied: aiosignal>=1.1.2 in /usr/local/lib/python3.11/dist-packages (from aiohttp->datasets) (1.3.2)\n",
            "Requirement already satisfied: attrs>=17.3.0 in /usr/local/lib/python3.11/dist-packages (from aiohttp->datasets) (25.3.0)\n",
            "Requirement already satisfied: frozenlist>=1.1.1 in /usr/local/lib/python3.11/dist-packages (from aiohttp->datasets) (1.5.0)\n",
            "Requirement already satisfied: multidict<7.0,>=4.5 in /usr/local/lib/python3.11/dist-packages (from aiohttp->datasets) (6.2.0)\n",
            "Requirement already satisfied: propcache>=0.2.0 in /usr/local/lib/python3.11/dist-packages (from aiohttp->datasets) (0.3.0)\n",
            "Requirement already satisfied: yarl<2.0,>=1.17.0 in /usr/local/lib/python3.11/dist-packages (from aiohttp->datasets) (1.18.3)\n",
            "Requirement already satisfied: charset-normalizer<4,>=2 in /usr/local/lib/python3.11/dist-packages (from requests->transformers) (3.4.1)\n",
            "Requirement already satisfied: idna<4,>=2.5 in /usr/local/lib/python3.11/dist-packages (from requests->transformers) (3.10)\n",
            "Requirement already satisfied: urllib3<3,>=1.21.1 in /usr/local/lib/python3.11/dist-packages (from requests->transformers) (2.3.0)\n",
            "Requirement already satisfied: certifi>=2017.4.17 in /usr/local/lib/python3.11/dist-packages (from requests->transformers) (2025.1.31)\n",
            "Requirement already satisfied: MarkupSafe>=2.0 in /usr/local/lib/python3.11/dist-packages (from jinja2->torch) (3.0.2)\n",
            "Requirement already satisfied: python-dateutil>=2.8.2 in /usr/local/lib/python3.11/dist-packages (from pandas->datasets) (2.8.2)\n",
            "Requirement already satisfied: pytz>=2020.1 in /usr/local/lib/python3.11/dist-packages (from pandas->datasets) (2025.1)\n",
            "Requirement already satisfied: tzdata>=2022.7 in /usr/local/lib/python3.11/dist-packages (from pandas->datasets) (2025.1)\n",
            "Requirement already satisfied: six>=1.5 in /usr/local/lib/python3.11/dist-packages (from python-dateutil>=2.8.2->pandas->datasets) (1.17.0)\n",
            "Downloading datasets-3.4.1-py3-none-any.whl (487 kB)\n",
            "\u001b[2K   \u001b[90m━━━━━━━━━━━━━━━━━━━━━━━━━━━━━━━━━━━━━━━━\u001b[0m \u001b[32m487.4/487.4 kB\u001b[0m \u001b[31m18.8 MB/s\u001b[0m eta \u001b[36m0:00:00\u001b[0m\n",
            "\u001b[?25hDownloading nvidia_cublas_cu12-12.4.5.8-py3-none-manylinux2014_x86_64.whl (363.4 MB)\n",
            "\u001b[2K   \u001b[90m━━━━━━━━━━━━━━━━━━━━━━━━━━━━━━━━━━━━━━━━\u001b[0m \u001b[32m363.4/363.4 MB\u001b[0m \u001b[31m3.8 MB/s\u001b[0m eta \u001b[36m0:00:00\u001b[0m\n",
            "\u001b[?25hDownloading nvidia_cuda_cupti_cu12-12.4.127-py3-none-manylinux2014_x86_64.whl (13.8 MB)\n",
            "\u001b[2K   \u001b[90m━━━━━━━━━━━━━━━━━━━━━━━━━━━━━━━━━━━━━━━━\u001b[0m \u001b[32m13.8/13.8 MB\u001b[0m \u001b[31m61.9 MB/s\u001b[0m eta \u001b[36m0:00:00\u001b[0m\n",
            "\u001b[?25hDownloading nvidia_cuda_nvrtc_cu12-12.4.127-py3-none-manylinux2014_x86_64.whl (24.6 MB)\n",
            "\u001b[2K   \u001b[90m━━━━━━━━━━━━━━━━━━━━━━━━━━━━━━━━━━━━━━━━\u001b[0m \u001b[32m24.6/24.6 MB\u001b[0m \u001b[31m27.7 MB/s\u001b[0m eta \u001b[36m0:00:00\u001b[0m\n",
            "\u001b[?25hDownloading nvidia_cuda_runtime_cu12-12.4.127-py3-none-manylinux2014_x86_64.whl (883 kB)\n",
            "\u001b[2K   \u001b[90m━━━━━━━━━━━━━━━━━━━━━━━━━━━━━━━━━━━━━━━━\u001b[0m \u001b[32m883.7/883.7 kB\u001b[0m \u001b[31m17.5 MB/s\u001b[0m eta \u001b[36m0:00:00\u001b[0m\n",
            "\u001b[?25hDownloading nvidia_cudnn_cu12-9.1.0.70-py3-none-manylinux2014_x86_64.whl (664.8 MB)\n",
            "\u001b[2K   \u001b[90m━━━━━━━━━━━━━━━━━━━━━━━━━━━━━━━━━━━━━━━━\u001b[0m \u001b[32m664.8/664.8 MB\u001b[0m \u001b[31m2.5 MB/s\u001b[0m eta \u001b[36m0:00:00\u001b[0m\n",
            "\u001b[?25hDownloading nvidia_cufft_cu12-11.2.1.3-py3-none-manylinux2014_x86_64.whl (211.5 MB)\n",
            "\u001b[2K   \u001b[90m━━━━━━━━━━━━━━━━━━━━━━━━━━━━━━━━━━━━━━━━\u001b[0m \u001b[32m211.5/211.5 MB\u001b[0m \u001b[31m4.8 MB/s\u001b[0m eta \u001b[36m0:00:00\u001b[0m\n",
            "\u001b[?25hDownloading nvidia_curand_cu12-10.3.5.147-py3-none-manylinux2014_x86_64.whl (56.3 MB)\n",
            "\u001b[2K   \u001b[90m━━━━━━━━━━━━━━━━━━━━━━━━━━━━━━━━━━━━━━━━\u001b[0m \u001b[32m56.3/56.3 MB\u001b[0m \u001b[31m9.7 MB/s\u001b[0m eta \u001b[36m0:00:00\u001b[0m\n",
            "\u001b[?25hDownloading nvidia_cusolver_cu12-11.6.1.9-py3-none-manylinux2014_x86_64.whl (127.9 MB)\n",
            "\u001b[2K   \u001b[90m━━━━━━━━━━━━━━━━━━━━━━━━━━━━━━━━━━━━━━━━\u001b[0m \u001b[32m127.9/127.9 MB\u001b[0m \u001b[31m7.4 MB/s\u001b[0m eta \u001b[36m0:00:00\u001b[0m\n",
            "\u001b[?25hDownloading nvidia_cusparse_cu12-12.3.1.170-py3-none-manylinux2014_x86_64.whl (207.5 MB)\n",
            "\u001b[2K   \u001b[90m━━━━━━━━━━━━━━━━━━━━━━━━━━━━━━━━━━━━━━━━\u001b[0m \u001b[32m207.5/207.5 MB\u001b[0m \u001b[31m6.0 MB/s\u001b[0m eta \u001b[36m0:00:00\u001b[0m\n",
            "\u001b[?25hDownloading nvidia_nvjitlink_cu12-12.4.127-py3-none-manylinux2014_x86_64.whl (21.1 MB)\n",
            "\u001b[2K   \u001b[90m━━━━━━━━━━━━━━━━━━━━━━━━━━━━━━━━━━━━━━━━\u001b[0m \u001b[32m21.1/21.1 MB\u001b[0m \u001b[31m90.3 MB/s\u001b[0m eta \u001b[36m0:00:00\u001b[0m\n",
            "\u001b[?25hDownloading dill-0.3.8-py3-none-any.whl (116 kB)\n",
            "\u001b[2K   \u001b[90m━━━━━━━━━━━━━━━━━━━━━━━━━━━━━━━━━━━━━━━━\u001b[0m \u001b[32m116.3/116.3 kB\u001b[0m \u001b[31m11.1 MB/s\u001b[0m eta \u001b[36m0:00:00\u001b[0m\n",
            "\u001b[?25hDownloading fsspec-2024.12.0-py3-none-any.whl (183 kB)\n",
            "\u001b[2K   \u001b[90m━━━━━━━━━━━━━━━━━━━━━━━━━━━━━━━━━━━━━━━━\u001b[0m \u001b[32m183.9/183.9 kB\u001b[0m \u001b[31m9.8 MB/s\u001b[0m eta \u001b[36m0:00:00\u001b[0m\n",
            "\u001b[?25hDownloading multiprocess-0.70.16-py311-none-any.whl (143 kB)\n",
            "\u001b[2K   \u001b[90m━━━━━━━━━━━━━━━━━━━━━━━━━━━━━━━━━━━━━━━━\u001b[0m \u001b[32m143.5/143.5 kB\u001b[0m \u001b[31m11.5 MB/s\u001b[0m eta \u001b[36m0:00:00\u001b[0m\n",
            "\u001b[?25hDownloading xxhash-3.5.0-cp311-cp311-manylinux_2_17_x86_64.manylinux2014_x86_64.whl (194 kB)\n",
            "\u001b[2K   \u001b[90m━━━━━━━━━━━━━━━━━━━━━━━━━━━━━━━━━━━━━━━━\u001b[0m \u001b[32m194.8/194.8 kB\u001b[0m \u001b[31m15.0 MB/s\u001b[0m eta \u001b[36m0:00:00\u001b[0m\n",
            "\u001b[?25hInstalling collected packages: xxhash, nvidia-nvjitlink-cu12, nvidia-curand-cu12, nvidia-cufft-cu12, nvidia-cuda-runtime-cu12, nvidia-cuda-nvrtc-cu12, nvidia-cuda-cupti-cu12, nvidia-cublas-cu12, fsspec, dill, nvidia-cusparse-cu12, nvidia-cudnn-cu12, multiprocess, nvidia-cusolver-cu12, datasets\n",
            "  Attempting uninstall: nvidia-nvjitlink-cu12\n",
            "    Found existing installation: nvidia-nvjitlink-cu12 12.5.82\n",
            "    Uninstalling nvidia-nvjitlink-cu12-12.5.82:\n",
            "      Successfully uninstalled nvidia-nvjitlink-cu12-12.5.82\n",
            "  Attempting uninstall: nvidia-curand-cu12\n",
            "    Found existing installation: nvidia-curand-cu12 10.3.6.82\n",
            "    Uninstalling nvidia-curand-cu12-10.3.6.82:\n",
            "      Successfully uninstalled nvidia-curand-cu12-10.3.6.82\n",
            "  Attempting uninstall: nvidia-cufft-cu12\n",
            "    Found existing installation: nvidia-cufft-cu12 11.2.3.61\n",
            "    Uninstalling nvidia-cufft-cu12-11.2.3.61:\n",
            "      Successfully uninstalled nvidia-cufft-cu12-11.2.3.61\n",
            "  Attempting uninstall: nvidia-cuda-runtime-cu12\n",
            "    Found existing installation: nvidia-cuda-runtime-cu12 12.5.82\n",
            "    Uninstalling nvidia-cuda-runtime-cu12-12.5.82:\n",
            "      Successfully uninstalled nvidia-cuda-runtime-cu12-12.5.82\n",
            "  Attempting uninstall: nvidia-cuda-nvrtc-cu12\n",
            "    Found existing installation: nvidia-cuda-nvrtc-cu12 12.5.82\n",
            "    Uninstalling nvidia-cuda-nvrtc-cu12-12.5.82:\n",
            "      Successfully uninstalled nvidia-cuda-nvrtc-cu12-12.5.82\n",
            "  Attempting uninstall: nvidia-cuda-cupti-cu12\n",
            "    Found existing installation: nvidia-cuda-cupti-cu12 12.5.82\n",
            "    Uninstalling nvidia-cuda-cupti-cu12-12.5.82:\n",
            "      Successfully uninstalled nvidia-cuda-cupti-cu12-12.5.82\n",
            "  Attempting uninstall: nvidia-cublas-cu12\n",
            "    Found existing installation: nvidia-cublas-cu12 12.5.3.2\n",
            "    Uninstalling nvidia-cublas-cu12-12.5.3.2:\n",
            "      Successfully uninstalled nvidia-cublas-cu12-12.5.3.2\n",
            "  Attempting uninstall: fsspec\n",
            "    Found existing installation: fsspec 2025.3.0\n",
            "    Uninstalling fsspec-2025.3.0:\n",
            "      Successfully uninstalled fsspec-2025.3.0\n",
            "  Attempting uninstall: nvidia-cusparse-cu12\n",
            "    Found existing installation: nvidia-cusparse-cu12 12.5.1.3\n",
            "    Uninstalling nvidia-cusparse-cu12-12.5.1.3:\n",
            "      Successfully uninstalled nvidia-cusparse-cu12-12.5.1.3\n",
            "  Attempting uninstall: nvidia-cudnn-cu12\n",
            "    Found existing installation: nvidia-cudnn-cu12 9.3.0.75\n",
            "    Uninstalling nvidia-cudnn-cu12-9.3.0.75:\n",
            "      Successfully uninstalled nvidia-cudnn-cu12-9.3.0.75\n",
            "  Attempting uninstall: nvidia-cusolver-cu12\n",
            "    Found existing installation: nvidia-cusolver-cu12 11.6.3.83\n",
            "    Uninstalling nvidia-cusolver-cu12-11.6.3.83:\n",
            "      Successfully uninstalled nvidia-cusolver-cu12-11.6.3.83\n",
            "\u001b[31mERROR: pip's dependency resolver does not currently take into account all the packages that are installed. This behaviour is the source of the following dependency conflicts.\n",
            "gcsfs 2025.3.0 requires fsspec==2025.3.0, but you have fsspec 2024.12.0 which is incompatible.\u001b[0m\u001b[31m\n",
            "\u001b[0mSuccessfully installed datasets-3.4.1 dill-0.3.8 fsspec-2024.12.0 multiprocess-0.70.16 nvidia-cublas-cu12-12.4.5.8 nvidia-cuda-cupti-cu12-12.4.127 nvidia-cuda-nvrtc-cu12-12.4.127 nvidia-cuda-runtime-cu12-12.4.127 nvidia-cudnn-cu12-9.1.0.70 nvidia-cufft-cu12-11.2.1.3 nvidia-curand-cu12-10.3.5.147 nvidia-cusolver-cu12-11.6.1.9 nvidia-cusparse-cu12-12.3.1.170 nvidia-nvjitlink-cu12-12.4.127 xxhash-3.5.0\n",
            "Collecting unsloth\n",
            "  Downloading unsloth-2025.3.18-py3-none-any.whl.metadata (46 kB)\n",
            "\u001b[2K     \u001b[90m━━━━━━━━━━━━━━━━━━━━━━━━━━━━━━━━━━━━━━━━\u001b[0m \u001b[32m46.2/46.2 kB\u001b[0m \u001b[31m3.4 MB/s\u001b[0m eta \u001b[36m0:00:00\u001b[0m\n",
            "\u001b[?25hCollecting unsloth_zoo>=2025.3.14 (from unsloth)\n",
            "  Downloading unsloth_zoo-2025.3.16-py3-none-any.whl.metadata (8.0 kB)\n",
            "Requirement already satisfied: torch>=2.4.0 in /usr/local/lib/python3.11/dist-packages (from unsloth) (2.6.0+cu124)\n",
            "Collecting xformers>=0.0.27.post2 (from unsloth)\n",
            "  Downloading xformers-0.0.29.post3-cp311-cp311-manylinux_2_28_x86_64.whl.metadata (1.0 kB)\n",
            "Collecting bitsandbytes (from unsloth)\n",
            "  Downloading bitsandbytes-0.45.3-py3-none-manylinux_2_24_x86_64.whl.metadata (5.0 kB)\n",
            "Requirement already satisfied: triton>=3.0.0 in /usr/local/lib/python3.11/dist-packages (from unsloth) (3.2.0)\n",
            "Requirement already satisfied: packaging in /usr/local/lib/python3.11/dist-packages (from unsloth) (24.2)\n",
            "Collecting tyro (from unsloth)\n",
            "  Downloading tyro-0.9.17-py3-none-any.whl.metadata (9.5 kB)\n",
            "Requirement already satisfied: transformers!=4.47.0,>=4.46.1 in /usr/local/lib/python3.11/dist-packages (from unsloth) (4.49.0)\n",
            "Requirement already satisfied: datasets>=2.16.0 in /usr/local/lib/python3.11/dist-packages (from unsloth) (3.4.1)\n",
            "Requirement already satisfied: sentencepiece>=0.2.0 in /usr/local/lib/python3.11/dist-packages (from unsloth) (0.2.0)\n",
            "Requirement already satisfied: tqdm in /usr/local/lib/python3.11/dist-packages (from unsloth) (4.67.1)\n",
            "Requirement already satisfied: psutil in /usr/local/lib/python3.11/dist-packages (from unsloth) (5.9.5)\n",
            "Requirement already satisfied: wheel>=0.42.0 in /usr/local/lib/python3.11/dist-packages (from unsloth) (0.45.1)\n",
            "Requirement already satisfied: numpy in /usr/local/lib/python3.11/dist-packages (from unsloth) (2.0.2)\n",
            "Requirement already satisfied: accelerate>=0.34.1 in /usr/local/lib/python3.11/dist-packages (from unsloth) (1.5.2)\n",
            "Collecting trl!=0.15.0,!=0.9.0,!=0.9.1,!=0.9.2,!=0.9.3,<=0.15.2,>=0.7.9 (from unsloth)\n",
            "  Downloading trl-0.15.2-py3-none-any.whl.metadata (11 kB)\n",
            "Requirement already satisfied: peft!=0.11.0,>=0.7.1 in /usr/local/lib/python3.11/dist-packages (from unsloth) (0.14.0)\n",
            "Collecting protobuf<4.0.0 (from unsloth)\n",
            "  Downloading protobuf-3.20.3-py2.py3-none-any.whl.metadata (720 bytes)\n",
            "Requirement already satisfied: huggingface_hub in /usr/local/lib/python3.11/dist-packages (from unsloth) (0.29.3)\n",
            "Collecting hf_transfer (from unsloth)\n",
            "  Downloading hf_transfer-0.1.9-cp38-abi3-manylinux_2_17_x86_64.manylinux2014_x86_64.whl.metadata (1.7 kB)\n",
            "Requirement already satisfied: diffusers in /usr/local/lib/python3.11/dist-packages (from unsloth) (0.32.2)\n",
            "Requirement already satisfied: torchvision in /usr/local/lib/python3.11/dist-packages (from unsloth) (0.21.0+cu124)\n",
            "Requirement already satisfied: pyyaml in /usr/local/lib/python3.11/dist-packages (from accelerate>=0.34.1->unsloth) (6.0.2)\n",
            "Requirement already satisfied: safetensors>=0.4.3 in /usr/local/lib/python3.11/dist-packages (from accelerate>=0.34.1->unsloth) (0.5.3)\n",
            "Requirement already satisfied: filelock in /usr/local/lib/python3.11/dist-packages (from datasets>=2.16.0->unsloth) (3.18.0)\n",
            "Requirement already satisfied: pyarrow>=15.0.0 in /usr/local/lib/python3.11/dist-packages (from datasets>=2.16.0->unsloth) (18.1.0)\n",
            "Requirement already satisfied: dill<0.3.9,>=0.3.0 in /usr/local/lib/python3.11/dist-packages (from datasets>=2.16.0->unsloth) (0.3.8)\n",
            "Requirement already satisfied: pandas in /usr/local/lib/python3.11/dist-packages (from datasets>=2.16.0->unsloth) (2.2.2)\n",
            "Requirement already satisfied: requests>=2.32.2 in /usr/local/lib/python3.11/dist-packages (from datasets>=2.16.0->unsloth) (2.32.3)\n",
            "Requirement already satisfied: xxhash in /usr/local/lib/python3.11/dist-packages (from datasets>=2.16.0->unsloth) (3.5.0)\n",
            "Requirement already satisfied: multiprocess<0.70.17 in /usr/local/lib/python3.11/dist-packages (from datasets>=2.16.0->unsloth) (0.70.16)\n",
            "Requirement already satisfied: fsspec<=2024.12.0,>=2023.1.0 in /usr/local/lib/python3.11/dist-packages (from fsspec[http]<=2024.12.0,>=2023.1.0->datasets>=2.16.0->unsloth) (2024.12.0)\n",
            "Requirement already satisfied: aiohttp in /usr/local/lib/python3.11/dist-packages (from datasets>=2.16.0->unsloth) (3.11.14)\n",
            "Requirement already satisfied: typing-extensions>=3.7.4.3 in /usr/local/lib/python3.11/dist-packages (from huggingface_hub->unsloth) (4.12.2)\n",
            "Requirement already satisfied: networkx in /usr/local/lib/python3.11/dist-packages (from torch>=2.4.0->unsloth) (3.4.2)\n",
            "Requirement already satisfied: jinja2 in /usr/local/lib/python3.11/dist-packages (from torch>=2.4.0->unsloth) (3.1.6)\n",
            "Requirement already satisfied: nvidia-cuda-nvrtc-cu12==12.4.127 in /usr/local/lib/python3.11/dist-packages (from torch>=2.4.0->unsloth) (12.4.127)\n",
            "Requirement already satisfied: nvidia-cuda-runtime-cu12==12.4.127 in /usr/local/lib/python3.11/dist-packages (from torch>=2.4.0->unsloth) (12.4.127)\n",
            "Requirement already satisfied: nvidia-cuda-cupti-cu12==12.4.127 in /usr/local/lib/python3.11/dist-packages (from torch>=2.4.0->unsloth) (12.4.127)\n",
            "Requirement already satisfied: nvidia-cudnn-cu12==9.1.0.70 in /usr/local/lib/python3.11/dist-packages (from torch>=2.4.0->unsloth) (9.1.0.70)\n",
            "Requirement already satisfied: nvidia-cublas-cu12==12.4.5.8 in /usr/local/lib/python3.11/dist-packages (from torch>=2.4.0->unsloth) (12.4.5.8)\n",
            "Requirement already satisfied: nvidia-cufft-cu12==11.2.1.3 in /usr/local/lib/python3.11/dist-packages (from torch>=2.4.0->unsloth) (11.2.1.3)\n",
            "Requirement already satisfied: nvidia-curand-cu12==10.3.5.147 in /usr/local/lib/python3.11/dist-packages (from torch>=2.4.0->unsloth) (10.3.5.147)\n",
            "Requirement already satisfied: nvidia-cusolver-cu12==11.6.1.9 in /usr/local/lib/python3.11/dist-packages (from torch>=2.4.0->unsloth) (11.6.1.9)\n",
            "Requirement already satisfied: nvidia-cusparse-cu12==12.3.1.170 in /usr/local/lib/python3.11/dist-packages (from torch>=2.4.0->unsloth) (12.3.1.170)\n",
            "Requirement already satisfied: nvidia-cusparselt-cu12==0.6.2 in /usr/local/lib/python3.11/dist-packages (from torch>=2.4.0->unsloth) (0.6.2)\n",
            "Requirement already satisfied: nvidia-nccl-cu12==2.21.5 in /usr/local/lib/python3.11/dist-packages (from torch>=2.4.0->unsloth) (2.21.5)\n",
            "Requirement already satisfied: nvidia-nvtx-cu12==12.4.127 in /usr/local/lib/python3.11/dist-packages (from torch>=2.4.0->unsloth) (12.4.127)\n",
            "Requirement already satisfied: nvidia-nvjitlink-cu12==12.4.127 in /usr/local/lib/python3.11/dist-packages (from torch>=2.4.0->unsloth) (12.4.127)\n",
            "Requirement already satisfied: sympy==1.13.1 in /usr/local/lib/python3.11/dist-packages (from torch>=2.4.0->unsloth) (1.13.1)\n",
            "Requirement already satisfied: mpmath<1.4,>=1.1.0 in /usr/local/lib/python3.11/dist-packages (from sympy==1.13.1->torch>=2.4.0->unsloth) (1.3.0)\n",
            "Requirement already satisfied: regex!=2019.12.17 in /usr/local/lib/python3.11/dist-packages (from transformers!=4.47.0,>=4.46.1->unsloth) (2024.11.6)\n",
            "Requirement already satisfied: tokenizers<0.22,>=0.21 in /usr/local/lib/python3.11/dist-packages (from transformers!=4.47.0,>=4.46.1->unsloth) (0.21.1)\n",
            "Requirement already satisfied: rich in /usr/local/lib/python3.11/dist-packages (from trl!=0.15.0,!=0.9.0,!=0.9.1,!=0.9.2,!=0.9.3,<=0.15.2,>=0.7.9->unsloth) (13.9.4)\n",
            "Collecting cut_cross_entropy (from unsloth_zoo>=2025.3.14->unsloth)\n",
            "  Downloading cut_cross_entropy-25.1.1-py3-none-any.whl.metadata (9.3 kB)\n",
            "Requirement already satisfied: pillow in /usr/local/lib/python3.11/dist-packages (from unsloth_zoo>=2025.3.14->unsloth) (11.1.0)\n",
            "Requirement already satisfied: importlib-metadata in /usr/local/lib/python3.11/dist-packages (from diffusers->unsloth) (8.6.1)\n",
            "Requirement already satisfied: docstring-parser>=0.15 in /usr/local/lib/python3.11/dist-packages (from tyro->unsloth) (0.16)\n",
            "Collecting shtab>=1.5.6 (from tyro->unsloth)\n",
            "  Downloading shtab-1.7.1-py3-none-any.whl.metadata (7.3 kB)\n",
            "Requirement already satisfied: typeguard>=4.0.0 in /usr/local/lib/python3.11/dist-packages (from tyro->unsloth) (4.4.2)\n",
            "Requirement already satisfied: aiohappyeyeballs>=2.3.0 in /usr/local/lib/python3.11/dist-packages (from aiohttp->datasets>=2.16.0->unsloth) (2.6.1)\n",
            "Requirement already satisfied: aiosignal>=1.1.2 in /usr/local/lib/python3.11/dist-packages (from aiohttp->datasets>=2.16.0->unsloth) (1.3.2)\n",
            "Requirement already satisfied: attrs>=17.3.0 in /usr/local/lib/python3.11/dist-packages (from aiohttp->datasets>=2.16.0->unsloth) (25.3.0)\n",
            "Requirement already satisfied: frozenlist>=1.1.1 in /usr/local/lib/python3.11/dist-packages (from aiohttp->datasets>=2.16.0->unsloth) (1.5.0)\n",
            "Requirement already satisfied: multidict<7.0,>=4.5 in /usr/local/lib/python3.11/dist-packages (from aiohttp->datasets>=2.16.0->unsloth) (6.2.0)\n",
            "Requirement already satisfied: propcache>=0.2.0 in /usr/local/lib/python3.11/dist-packages (from aiohttp->datasets>=2.16.0->unsloth) (0.3.0)\n",
            "Requirement already satisfied: yarl<2.0,>=1.17.0 in /usr/local/lib/python3.11/dist-packages (from aiohttp->datasets>=2.16.0->unsloth) (1.18.3)\n",
            "Requirement already satisfied: charset-normalizer<4,>=2 in /usr/local/lib/python3.11/dist-packages (from requests>=2.32.2->datasets>=2.16.0->unsloth) (3.4.1)\n",
            "Requirement already satisfied: idna<4,>=2.5 in /usr/local/lib/python3.11/dist-packages (from requests>=2.32.2->datasets>=2.16.0->unsloth) (3.10)\n",
            "Requirement already satisfied: urllib3<3,>=1.21.1 in /usr/local/lib/python3.11/dist-packages (from requests>=2.32.2->datasets>=2.16.0->unsloth) (2.3.0)\n",
            "Requirement already satisfied: certifi>=2017.4.17 in /usr/local/lib/python3.11/dist-packages (from requests>=2.32.2->datasets>=2.16.0->unsloth) (2025.1.31)\n",
            "Requirement already satisfied: markdown-it-py>=2.2.0 in /usr/local/lib/python3.11/dist-packages (from rich->trl!=0.15.0,!=0.9.0,!=0.9.1,!=0.9.2,!=0.9.3,<=0.15.2,>=0.7.9->unsloth) (3.0.0)\n",
            "Requirement already satisfied: pygments<3.0.0,>=2.13.0 in /usr/local/lib/python3.11/dist-packages (from rich->trl!=0.15.0,!=0.9.0,!=0.9.1,!=0.9.2,!=0.9.3,<=0.15.2,>=0.7.9->unsloth) (2.18.0)\n",
            "Requirement already satisfied: zipp>=3.20 in /usr/local/lib/python3.11/dist-packages (from importlib-metadata->diffusers->unsloth) (3.21.0)\n",
            "Requirement already satisfied: MarkupSafe>=2.0 in /usr/local/lib/python3.11/dist-packages (from jinja2->torch>=2.4.0->unsloth) (3.0.2)\n",
            "Requirement already satisfied: python-dateutil>=2.8.2 in /usr/local/lib/python3.11/dist-packages (from pandas->datasets>=2.16.0->unsloth) (2.8.2)\n",
            "Requirement already satisfied: pytz>=2020.1 in /usr/local/lib/python3.11/dist-packages (from pandas->datasets>=2.16.0->unsloth) (2025.1)\n",
            "Requirement already satisfied: tzdata>=2022.7 in /usr/local/lib/python3.11/dist-packages (from pandas->datasets>=2.16.0->unsloth) (2025.1)\n",
            "Requirement already satisfied: mdurl~=0.1 in /usr/local/lib/python3.11/dist-packages (from markdown-it-py>=2.2.0->rich->trl!=0.15.0,!=0.9.0,!=0.9.1,!=0.9.2,!=0.9.3,<=0.15.2,>=0.7.9->unsloth) (0.1.2)\n",
            "Requirement already satisfied: six>=1.5 in /usr/local/lib/python3.11/dist-packages (from python-dateutil>=2.8.2->pandas->datasets>=2.16.0->unsloth) (1.17.0)\n",
            "Downloading unsloth-2025.3.18-py3-none-any.whl (192 kB)\n",
            "\u001b[2K   \u001b[90m━━━━━━━━━━━━━━━━━━━━━━━━━━━━━━━━━━━━━━━━\u001b[0m \u001b[32m192.5/192.5 kB\u001b[0m \u001b[31m15.5 MB/s\u001b[0m eta \u001b[36m0:00:00\u001b[0m\n",
            "\u001b[?25hDownloading protobuf-3.20.3-py2.py3-none-any.whl (162 kB)\n",
            "\u001b[2K   \u001b[90m━━━━━━━━━━━━━━━━━━━━━━━━━━━━━━━━━━━━━━━━\u001b[0m \u001b[32m162.1/162.1 kB\u001b[0m \u001b[31m14.4 MB/s\u001b[0m eta \u001b[36m0:00:00\u001b[0m\n",
            "\u001b[?25hDownloading trl-0.15.2-py3-none-any.whl (318 kB)\n",
            "\u001b[2K   \u001b[90m━━━━━━━━━━━━━━━━━━━━━━━━━━━━━━━━━━━━━━━━\u001b[0m \u001b[32m318.9/318.9 kB\u001b[0m \u001b[31m26.7 MB/s\u001b[0m eta \u001b[36m0:00:00\u001b[0m\n",
            "\u001b[?25hDownloading unsloth_zoo-2025.3.16-py3-none-any.whl (126 kB)\n",
            "\u001b[2K   \u001b[90m━━━━━━━━━━━━━━━━━━━━━━━━━━━━━━━━━━━━━━━━\u001b[0m \u001b[32m126.9/126.9 kB\u001b[0m \u001b[31m8.4 MB/s\u001b[0m eta \u001b[36m0:00:00\u001b[0m\n",
            "\u001b[?25hDownloading xformers-0.0.29.post3-cp311-cp311-manylinux_2_28_x86_64.whl (43.4 MB)\n",
            "\u001b[2K   \u001b[90m━━━━━━━━━━━━━━━━━━━━━━━━━━━━━━━━━━━━━━━━\u001b[0m \u001b[32m43.4/43.4 MB\u001b[0m \u001b[31m14.9 MB/s\u001b[0m eta \u001b[36m0:00:00\u001b[0m\n",
            "\u001b[?25hDownloading bitsandbytes-0.45.3-py3-none-manylinux_2_24_x86_64.whl (76.1 MB)\n",
            "\u001b[2K   \u001b[90m━━━━━━━━━━━━━━━━━━━━━━━━━━━━━━━━━━━━━━━━\u001b[0m \u001b[32m76.1/76.1 MB\u001b[0m \u001b[31m10.3 MB/s\u001b[0m eta \u001b[36m0:00:00\u001b[0m\n",
            "\u001b[?25hDownloading hf_transfer-0.1.9-cp38-abi3-manylinux_2_17_x86_64.manylinux2014_x86_64.whl (3.6 MB)\n",
            "\u001b[2K   \u001b[90m━━━━━━━━━━━━━━━━━━━━━━━━━━━━━━━━━━━━━━━━\u001b[0m \u001b[32m3.6/3.6 MB\u001b[0m \u001b[31m96.4 MB/s\u001b[0m eta \u001b[36m0:00:00\u001b[0m\n",
            "\u001b[?25hDownloading tyro-0.9.17-py3-none-any.whl (123 kB)\n",
            "\u001b[2K   \u001b[90m━━━━━━━━━━━━━━━━━━━━━━━━━━━━━━━━━━━━━━━━\u001b[0m \u001b[32m123.7/123.7 kB\u001b[0m \u001b[31m10.0 MB/s\u001b[0m eta \u001b[36m0:00:00\u001b[0m\n",
            "\u001b[?25hDownloading shtab-1.7.1-py3-none-any.whl (14 kB)\n",
            "Downloading cut_cross_entropy-25.1.1-py3-none-any.whl (22 kB)\n",
            "Installing collected packages: shtab, protobuf, hf_transfer, tyro, xformers, cut_cross_entropy, bitsandbytes, trl, unsloth_zoo, unsloth\n",
            "  Attempting uninstall: protobuf\n",
            "    Found existing installation: protobuf 5.29.4\n",
            "    Uninstalling protobuf-5.29.4:\n",
            "      Successfully uninstalled protobuf-5.29.4\n",
            "\u001b[31mERROR: pip's dependency resolver does not currently take into account all the packages that are installed. This behaviour is the source of the following dependency conflicts.\n",
            "tensorflow-metadata 1.16.1 requires protobuf<6.0.0dev,>=4.25.2; python_version >= \"3.11\", but you have protobuf 3.20.3 which is incompatible.\n",
            "grpcio-status 1.71.0 requires protobuf<6.0dev,>=5.26.1, but you have protobuf 3.20.3 which is incompatible.\u001b[0m\u001b[31m\n",
            "\u001b[0mSuccessfully installed bitsandbytes-0.45.3 cut_cross_entropy-25.1.1 hf_transfer-0.1.9 protobuf-3.20.3 shtab-1.7.1 trl-0.15.2 tyro-0.9.17 unsloth-2025.3.18 unsloth_zoo-2025.3.16 xformers-0.0.29.post3\n"
          ]
        },
        {
          "output_type": "display_data",
          "data": {
            "application/vnd.colab-display-data+json": {
              "pip_warning": {
                "packages": [
                  "google"
                ]
              },
              "id": "f352a1522c05499aa238ca76e3e6084e"
            }
          },
          "metadata": {}
        },
        {
          "output_type": "stream",
          "name": "stdout",
          "text": [
            "Requirement already satisfied: peft in /usr/local/lib/python3.11/dist-packages (0.14.0)\n",
            "Requirement already satisfied: numpy>=1.17 in /usr/local/lib/python3.11/dist-packages (from peft) (2.0.2)\n",
            "Requirement already satisfied: packaging>=20.0 in /usr/local/lib/python3.11/dist-packages (from peft) (24.2)\n",
            "Requirement already satisfied: psutil in /usr/local/lib/python3.11/dist-packages (from peft) (5.9.5)\n",
            "Requirement already satisfied: pyyaml in /usr/local/lib/python3.11/dist-packages (from peft) (6.0.2)\n",
            "Requirement already satisfied: torch>=1.13.0 in /usr/local/lib/python3.11/dist-packages (from peft) (2.6.0+cu124)\n",
            "Requirement already satisfied: transformers in /usr/local/lib/python3.11/dist-packages (from peft) (4.49.0)\n",
            "Requirement already satisfied: tqdm in /usr/local/lib/python3.11/dist-packages (from peft) (4.67.1)\n",
            "Requirement already satisfied: accelerate>=0.21.0 in /usr/local/lib/python3.11/dist-packages (from peft) (1.5.2)\n",
            "Requirement already satisfied: safetensors in /usr/local/lib/python3.11/dist-packages (from peft) (0.5.3)\n",
            "Requirement already satisfied: huggingface-hub>=0.25.0 in /usr/local/lib/python3.11/dist-packages (from peft) (0.29.3)\n",
            "Requirement already satisfied: filelock in /usr/local/lib/python3.11/dist-packages (from huggingface-hub>=0.25.0->peft) (3.18.0)\n",
            "Requirement already satisfied: fsspec>=2023.5.0 in /usr/local/lib/python3.11/dist-packages (from huggingface-hub>=0.25.0->peft) (2024.12.0)\n",
            "Requirement already satisfied: requests in /usr/local/lib/python3.11/dist-packages (from huggingface-hub>=0.25.0->peft) (2.32.3)\n",
            "Requirement already satisfied: typing-extensions>=3.7.4.3 in /usr/local/lib/python3.11/dist-packages (from huggingface-hub>=0.25.0->peft) (4.12.2)\n",
            "Requirement already satisfied: networkx in /usr/local/lib/python3.11/dist-packages (from torch>=1.13.0->peft) (3.4.2)\n",
            "Requirement already satisfied: jinja2 in /usr/local/lib/python3.11/dist-packages (from torch>=1.13.0->peft) (3.1.6)\n",
            "Requirement already satisfied: nvidia-cuda-nvrtc-cu12==12.4.127 in /usr/local/lib/python3.11/dist-packages (from torch>=1.13.0->peft) (12.4.127)\n",
            "Requirement already satisfied: nvidia-cuda-runtime-cu12==12.4.127 in /usr/local/lib/python3.11/dist-packages (from torch>=1.13.0->peft) (12.4.127)\n",
            "Requirement already satisfied: nvidia-cuda-cupti-cu12==12.4.127 in /usr/local/lib/python3.11/dist-packages (from torch>=1.13.0->peft) (12.4.127)\n",
            "Requirement already satisfied: nvidia-cudnn-cu12==9.1.0.70 in /usr/local/lib/python3.11/dist-packages (from torch>=1.13.0->peft) (9.1.0.70)\n",
            "Requirement already satisfied: nvidia-cublas-cu12==12.4.5.8 in /usr/local/lib/python3.11/dist-packages (from torch>=1.13.0->peft) (12.4.5.8)\n",
            "Requirement already satisfied: nvidia-cufft-cu12==11.2.1.3 in /usr/local/lib/python3.11/dist-packages (from torch>=1.13.0->peft) (11.2.1.3)\n",
            "Requirement already satisfied: nvidia-curand-cu12==10.3.5.147 in /usr/local/lib/python3.11/dist-packages (from torch>=1.13.0->peft) (10.3.5.147)\n",
            "Requirement already satisfied: nvidia-cusolver-cu12==11.6.1.9 in /usr/local/lib/python3.11/dist-packages (from torch>=1.13.0->peft) (11.6.1.9)\n",
            "Requirement already satisfied: nvidia-cusparse-cu12==12.3.1.170 in /usr/local/lib/python3.11/dist-packages (from torch>=1.13.0->peft) (12.3.1.170)\n",
            "Requirement already satisfied: nvidia-cusparselt-cu12==0.6.2 in /usr/local/lib/python3.11/dist-packages (from torch>=1.13.0->peft) (0.6.2)\n",
            "Requirement already satisfied: nvidia-nccl-cu12==2.21.5 in /usr/local/lib/python3.11/dist-packages (from torch>=1.13.0->peft) (2.21.5)\n",
            "Requirement already satisfied: nvidia-nvtx-cu12==12.4.127 in /usr/local/lib/python3.11/dist-packages (from torch>=1.13.0->peft) (12.4.127)\n",
            "Requirement already satisfied: nvidia-nvjitlink-cu12==12.4.127 in /usr/local/lib/python3.11/dist-packages (from torch>=1.13.0->peft) (12.4.127)\n",
            "Requirement already satisfied: triton==3.2.0 in /usr/local/lib/python3.11/dist-packages (from torch>=1.13.0->peft) (3.2.0)\n",
            "Requirement already satisfied: sympy==1.13.1 in /usr/local/lib/python3.11/dist-packages (from torch>=1.13.0->peft) (1.13.1)\n",
            "Requirement already satisfied: mpmath<1.4,>=1.1.0 in /usr/local/lib/python3.11/dist-packages (from sympy==1.13.1->torch>=1.13.0->peft) (1.3.0)\n",
            "Requirement already satisfied: regex!=2019.12.17 in /usr/local/lib/python3.11/dist-packages (from transformers->peft) (2024.11.6)\n",
            "Requirement already satisfied: tokenizers<0.22,>=0.21 in /usr/local/lib/python3.11/dist-packages (from transformers->peft) (0.21.1)\n",
            "Requirement already satisfied: MarkupSafe>=2.0 in /usr/local/lib/python3.11/dist-packages (from jinja2->torch>=1.13.0->peft) (3.0.2)\n",
            "Requirement already satisfied: charset-normalizer<4,>=2 in /usr/local/lib/python3.11/dist-packages (from requests->huggingface-hub>=0.25.0->peft) (3.4.1)\n",
            "Requirement already satisfied: idna<4,>=2.5 in /usr/local/lib/python3.11/dist-packages (from requests->huggingface-hub>=0.25.0->peft) (3.10)\n",
            "Requirement already satisfied: urllib3<3,>=1.21.1 in /usr/local/lib/python3.11/dist-packages (from requests->huggingface-hub>=0.25.0->peft) (2.3.0)\n",
            "Requirement already satisfied: certifi>=2017.4.17 in /usr/local/lib/python3.11/dist-packages (from requests->huggingface-hub>=0.25.0->peft) (2025.1.31)\n"
          ]
        }
      ],
      "source": [
        "!pip install transformers datasets torch\n",
        "!pip install unsloth\n",
        "!pip install peft"
      ]
    },
    {
      "cell_type": "code",
      "source": [
        "import json\n",
        "import torch\n",
        "from transformers import AutoTokenizer, Trainer, TrainingArguments\n",
        "from datasets import Dataset\n",
        "from huggingface_hub import login\n",
        "from unsloth import FastLanguageModel\n",
        "from peft import LoraConfig, get_peft_model"
      ],
      "metadata": {
        "colab": {
          "base_uri": "https://localhost:8080/"
        },
        "id": "xZeha3Wm3WEM",
        "outputId": "d03db1cf-aafb-49ea-e632-05470a68f2a0"
      },
      "execution_count": 2,
      "outputs": [
        {
          "output_type": "stream",
          "name": "stderr",
          "text": [
            "<ipython-input-2-ab99e013b56e>:6: UserWarning: WARNING: Unsloth should be imported before transformers, peft to ensure all optimizations are applied. Your code may run slower or encounter memory issues without these optimizations.\n",
            "\n",
            "Please restructure your imports with 'import unsloth' at the top of your file.\n",
            "  from unsloth import FastLanguageModel\n"
          ]
        },
        {
          "output_type": "stream",
          "name": "stdout",
          "text": [
            "🦥 Unsloth: Will patch your computer to enable 2x faster free finetuning.\n",
            "🦥 Unsloth Zoo will now patch everything to make training faster!\n"
          ]
        }
      ]
    },
    {
      "cell_type": "code",
      "source": [
        "# Log in to Hugging Face Hub to save the fine-tuned model\n",
        "login()"
      ],
      "metadata": {
        "colab": {
          "base_uri": "https://localhost:8080/",
          "height": 17,
          "referenced_widgets": [
            "3e75004a4cc04b6ca0fe1b818bdd5891",
            "59df0906f5014312bd87a55f93f28053",
            "25f3a173e7ab4bb9a79f6c400c180d0c",
            "a3716a2fcd4d4ed581ff52a8814f9ec4",
            "69707714faca4fb19645391cfd02f32b",
            "50620c2715654c088ad6691c3ee9696f",
            "a891ed415032443790d3eda695f616f9",
            "59a42267d1f1466e8d406d9440c713c1",
            "807c4a6d55be48a384dee5ef08314e56",
            "1a14062a237e4e878ebeb0bd9c50b6cd",
            "48339cfa4e0f4eed97e550e5bfb9cd8b",
            "829351bb4a4746a8b7e3cba6fac20d99",
            "2fdfdd21ac554008a344d02c73e9c6db",
            "43f398d29fd44875a9b71afe8a205e77",
            "d38a196242464edbbdcc8c70711f9e0e",
            "9245999492e848089c695f79f285d42d",
            "c4f44432522e4c64a4f6582d72577924",
            "696fe18fa5564814ab04cb3441889a53",
            "e437bcc8e041491f8a3a94b1265a3891",
            "68f60e2f2ce14722b2c65ab88d583290"
          ]
        },
        "id": "FY8Dfzv_3ZXb",
        "outputId": "edf70b99-c194-4213-bda7-e273d4572499"
      },
      "execution_count": 3,
      "outputs": [
        {
          "output_type": "display_data",
          "data": {
            "text/plain": [
              "VBox(children=(HTML(value='<center> <img\\nsrc=https://huggingface.co/front/assets/huggingface_logo-noborder.sv…"
            ],
            "application/vnd.jupyter.widget-view+json": {
              "version_major": 2,
              "version_minor": 0,
              "model_id": "3e75004a4cc04b6ca0fe1b818bdd5891"
            }
          },
          "metadata": {}
        }
      ]
    },
    {
      "cell_type": "code",
      "source": [
        "from datasets import Dataset\n",
        "\n",
        "# Dataset: Incorrect math memes and their corrected versions\n",
        "dataset = [\n",
        "    {\"riddle\": \"8 ÷ 2(2+2) = 1?\", \"solution\": \"8 ÷ 2 × (4) = 4 × 4 = 16\"},\n",
        "    {\"riddle\": \"52 = 10?\", \"solution\": \"5² = 25\"},\n",
        "    {\"riddle\": \"6 ÷ 2(1+2) = 1?\", \"solution\": \"6 ÷ 2 × (3) = 3 × 3 = 9\"},\n",
        "    {\"riddle\": \"0.999... = 0?\", \"solution\": \"0.999... = 1 (Mathematical proof: Limit approach)\"},\n",
        "    {\"riddle\": \"2 + 3 × 4 = 20?\", \"solution\": \"2 + (3 × 4) = 2 + 12 = 14\"},\n",
        "    {\"riddle\": \"100 - 50 ÷ 2 = 25?\", \"solution\": \"100 - (50 ÷ 2) = 100 - 25 = 75\"},\n",
        "    {\"riddle\": \"1 + 1 = 3 (common meme)?\", \"solution\": \"1 + 1 = 2 (Basic arithmetic)\"},\n",
        "    {\"riddle\": \"10 ÷ 5 ÷ 2 = 1?\", \"solution\": \"(10 ÷ 5) ÷ 2 = 2 ÷ 2 = 1\"},\n",
        "    {\"riddle\": \"25% of 200 = 100?\", \"solution\": \"25% of 200 = (25/100) × 200 = 50\"},\n",
        "    {\"riddle\": \"1/2 + 1/2 = 1/4?\", \"solution\": \"1/2 + 1/2 = 1\"},\n",
        "    {\"riddle\": \"√-1 = 1?\", \"solution\": \"√-1 = i (Imaginary unit in complex numbers)\"},\n",
        "    {\"riddle\": \"10² = 20?\", \"solution\": \"10² = 100\"},\n",
        "    {\"riddle\": \"9 - 3 ÷ 1/3 + 1 = 1?\", \"solution\": \"9 - 3 ÷ (1/3) + 1 = 9 - 9 + 1 = 1\"},\n",
        "    {\"riddle\": \"2⁴ ÷ 2² = 8?\", \"solution\": \"2⁴ ÷ 2² = 16 ÷ 4 = 4\"},\n",
        "    {\"riddle\": \"3(2+2) = 3×2+2?\", \"solution\": \"3(2+2) = 3×4 = 12 (not 3×2+2 = 6+2 = 8)\"},\n",
        "    {\"riddle\": \"7 + 7 ÷ 7 + 7 × 7 - 7 = 0?\", \"solution\": \"7 + (7 ÷ 7) + (7 × 7) - 7 = 7 + 1 + 49 - 7 = 50\"},\n",
        "    {\"riddle\": \"4 ÷ 2(2+2) = 2?\", \"solution\": \"4 ÷ 2 × (4) = 2 × 4 = 8\"},\n",
        "    {\"riddle\": \"50 - 10 × 5 + 10 = 200?\", \"solution\": \"50 - (10 × 5) + 10 = 50 - 50 + 10 = 10\"},\n",
        "    {\"riddle\": \"√4 + √4 = 4?\", \"solution\": \"√4 + √4 = 2 + 2 = 4\"},\n",
        "    {\"riddle\": \"60 ÷ 5(7 - 5) = 30?\", \"solution\": \"60 ÷ 5 × (7 - 5) = 60 ÷ 5 × 2 = 12 × 2 = 24\"},\n",
        "]\n",
        "\n",
        "# Convert the dataset into a Hugging Face Dataset\n",
        "dataset = Dataset.from_dict({\n",
        "    \"riddle\": [item[\"riddle\"] for item in dataset],\n",
        "    \"solution\": [item[\"solution\"] for item in dataset]\n",
        "})\n"
      ],
      "metadata": {
        "id": "TJk9y_8x3dQX"
      },
      "execution_count": null,
      "outputs": []
    },
    {
      "cell_type": "code",
      "source": [
        "\n",
        "# Load the pre-trained model and tokenizer with Unsloth\n",
        "model_name = \"deepseek-ai/deepseek-math-7b-instruct\"  # Replace with the correct model name\n",
        "model, tokenizer = FastLanguageModel.from_pretrained(\n",
        "    model_name=model_name,\n",
        "    max_seq_length=512,\n",
        "    dtype=None,\n",
        "    load_in_4bit=True,\n",
        ")"
      ],
      "metadata": {
        "colab": {
          "base_uri": "https://localhost:8080/",
          "height": 195,
          "referenced_widgets": [
            "fd749d80ef754835956295d6caaa2365",
            "285231485df648839fe2dba61708ee16",
            "4c7d02232c2242eebf4c70d088f98eb2",
            "0328eb206f574202aa390bd5cf5538c9",
            "53944b13e4434bfeb23d7ee39276c023",
            "6f5eec2e043d43f1bfee5e5c93359366",
            "9324861cfd9b4c979be7d5d7a4a965fe",
            "7c52b6476b434e8dbdce7daf63e773dc",
            "b153fe9cde534ddab70000b23378f59b",
            "b9bd7e73d90c458f8f1a8701ebb03377",
            "492dba368f6348d28808acdd7c01f452"
          ]
        },
        "id": "BI4HkElW5B4y",
        "outputId": "d6ca99ef-e73b-4e7a-a288-6d12131f5887"
      },
      "execution_count": null,
      "outputs": [
        {
          "output_type": "stream",
          "name": "stdout",
          "text": [
            "==((====))==  Unsloth 2025.3.18: Fast Llama patching. Transformers: 4.49.0.\n",
            "   \\\\   /|    Tesla T4. Num GPUs = 1. Max memory: 14.741 GB. Platform: Linux.\n",
            "O^O/ \\_/ \\    Torch: 2.6.0+cu124. CUDA: 7.5. CUDA Toolkit: 12.4. Triton: 3.2.0\n",
            "\\        /    Bfloat16 = FALSE. FA [Xformers = 0.0.29.post3. FA2 = False]\n",
            " \"-____-\"     Free license: http://github.com/unslothai/unsloth\n",
            "Unsloth: Fast downloading is enabled - ignore downloading bars which are red colored!\n"
          ]
        },
        {
          "output_type": "display_data",
          "data": {
            "text/plain": [
              "Loading checkpoint shards:   0%|          | 0/2 [00:00<?, ?it/s]"
            ],
            "application/vnd.jupyter.widget-view+json": {
              "version_major": 2,
              "version_minor": 0,
              "model_id": "fd749d80ef754835956295d6caaa2365"
            }
          },
          "metadata": {}
        },
        {
          "output_type": "stream",
          "name": "stdout",
          "text": [
            "deepseek-ai/deepseek-math-7b-instruct does not have a padding token! Will use pad_token = <|PAD_TOKEN|>.\n"
          ]
        }
      ]
    },
    {
      "cell_type": "code",
      "source": [
        "# Tokenize the riddle dataset\n",
        "def preprocess_function(examples):\n",
        "    # Tokenize the riddles (inputs)\n",
        "    model_inputs = tokenizer(examples[\"riddle\"], truncation=True, padding=\"max_length\", max_length=512)\n",
        "\n",
        "    # Tokenize the solutions (labels)\n",
        "    labels = tokenizer(examples[\"solution\"], truncation=True, padding=\"max_length\", max_length=512)\n",
        "\n",
        "    # Add the labels to the model inputs\n",
        "    model_inputs[\"labels\"] = labels[\"input_ids\"]\n",
        "    return model_inputs\n",
        "\n",
        "tokenized_dataset = more_dataset.map(preprocess_function, batched=True)\n",
        "\n",
        "# Check the first example\n",
        "print(tokenized_dataset[0])\n",
        "\n",
        "# Decode the input IDs to verify the tokenization\n",
        "decoded_input = tokenizer.decode(tokenized_dataset[0][\"input_ids\"])\n",
        "decoded_labels = tokenizer.decode(tokenized_dataset[0][\"labels\"])\n",
        "\n",
        "print(f\"Decoded input: {decoded_input}\")\n",
        "print(f\"Decoded labels: {decoded_labels}\")\n"
      ],
      "metadata": {
        "colab": {
          "base_uri": "https://localhost:8080/",
          "height": 123,
          "referenced_widgets": [
            "92b02bdd670e4446964ece596646e4af",
            "8908ba7e52414c7a8e3099e9aca0b264",
            "25af9bd025424d03977a35a01b91a799",
            "250476b2eb6e4c5b8068f4fe75dd4db0",
            "390e27379e6a4cbf948e68eb2cb3a16d",
            "e9de57f15c3d4e63855dfb6a49d8618c",
            "9599b2e72e3444e788baf2dc476e5ea2",
            "0eb3f80f9b924daa99db4ac9a699c083",
            "1530a2c78a9847c5bedfe433e42cc59a",
            "2cd386f3ab4c42e7b9cab24362de27a6",
            "b2c3a332ea4f48e0ac1adbe8f57b9637"
          ]
        },
        "id": "ddj-kF0g64AJ",
        "outputId": "b40a9cbd-0a1f-4c43-d240-b9236cf44541"
      },
      "execution_count": null,
      "outputs": [
        {
          "output_type": "display_data",
          "data": {
            "text/plain": [
              "Map:   0%|          | 0/15 [00:00<?, ? examples/s]"
            ],
            "application/vnd.jupyter.widget-view+json": {
              "version_major": 2,
              "version_minor": 0,
              "model_id": "92b02bdd670e4446964ece596646e4af"
            }
          },
          "metadata": {}
        },
        {
          "output_type": "stream",
          "name": "stdout",
          "text": [
            "{'riddle': 'I’m tall when I’m young, and I’m short when I’m old. What am I?', 'solution': 'A candle', 'solution_explanation': 'A candle burns down as it gets older, becoming shorter.', 'input_ids': [100002, 100002, 100002, 100002, 100002, 100002, 100002, 100002, 100002, 100002, 100002, 100002, 100002, 100002, 100002, 100002, 100002, 100002, 100002, 100002, 100002, 100002, 100002, 100002, 100002, 100002, 100002, 100002, 100002, 100002, 100002, 100002, 100002, 100002, 100002, 100002, 100002, 100002, 100002, 100002, 100002, 100002, 100002, 100002, 100002, 100002, 100002, 100002, 100002, 100002, 100002, 100002, 100002, 100002, 100002, 100002, 100002, 100002, 100002, 100002, 100002, 100002, 100002, 100002, 100002, 100002, 100002, 100002, 100002, 100002, 100002, 100002, 100002, 100002, 100002, 100002, 100002, 100002, 100002, 100002, 100002, 100002, 100002, 100002, 100002, 100002, 100002, 100002, 100002, 100002, 100002, 100002, 100002, 100002, 100002, 100002, 100002, 100002, 100002, 100002, 100002, 100002, 100002, 100002, 100002, 100002, 100002, 100002, 100002, 100002, 100002, 100002, 100002, 100002, 100002, 100002, 100002, 100002, 100002, 100002, 100002, 100002, 100002, 100002, 100002, 100002, 100002, 100002, 100002, 100002, 100002, 100002, 100002, 100002, 100002, 100002, 100002, 100002, 100002, 100002, 100002, 100002, 100002, 100002, 100002, 100002, 100002, 100002, 100002, 100002, 100002, 100002, 100002, 100002, 100002, 100002, 100002, 100002, 100002, 100002, 100002, 100002, 100002, 100002, 100002, 100002, 100002, 100002, 100002, 100002, 100002, 100002, 100002, 100002, 100002, 100002, 100002, 100002, 100002, 100002, 100002, 100002, 100002, 100002, 100002, 100002, 100002, 100002, 100002, 100002, 100002, 100002, 100002, 100002, 100002, 100002, 100002, 100002, 100002, 100002, 100002, 100002, 100002, 100002, 100002, 100002, 100002, 100002, 100002, 100002, 100002, 100002, 100002, 100002, 100002, 100002, 100002, 100002, 100002, 100002, 100002, 100002, 100002, 100002, 100002, 100002, 100002, 100002, 100002, 100002, 100002, 100002, 100002, 100002, 100002, 100002, 100002, 100002, 100002, 100002, 100002, 100002, 100002, 100002, 100002, 100002, 100002, 100002, 100002, 100002, 100002, 100002, 100002, 100002, 100002, 100002, 100002, 100002, 100002, 100002, 100002, 100002, 100002, 100002, 100002, 100002, 100002, 100002, 100002, 100002, 100002, 100002, 100002, 100002, 100002, 100002, 100002, 100002, 100002, 100002, 100002, 100002, 100002, 100002, 100002, 100002, 100002, 100002, 100002, 100002, 100002, 100002, 100002, 100002, 100002, 100002, 100002, 100002, 100002, 100002, 100002, 100002, 100002, 100002, 100002, 100002, 100002, 100002, 100002, 100002, 100002, 100002, 100002, 100002, 100002, 100002, 100002, 100002, 100002, 100002, 100002, 100002, 100002, 100002, 100002, 100002, 100002, 100002, 100002, 100002, 100002, 100002, 100002, 100002, 100002, 100002, 100002, 100002, 100002, 100002, 100002, 100002, 100002, 100002, 100002, 100002, 100002, 100002, 100002, 100002, 100002, 100002, 100002, 100002, 100002, 100002, 100002, 100002, 100002, 100002, 100002, 100002, 100002, 100002, 100002, 100002, 100002, 100002, 100002, 100002, 100002, 100002, 100002, 100002, 100002, 100002, 100002, 100002, 100002, 100002, 100002, 100002, 100002, 100002, 100002, 100002, 100002, 100002, 100002, 100002, 100002, 100002, 100002, 100002, 100002, 100002, 100002, 100002, 100002, 100002, 100002, 100002, 100002, 100002, 100002, 100002, 100002, 100002, 100002, 100002, 100002, 100002, 100002, 100002, 100002, 100002, 100002, 100002, 100002, 100002, 100002, 100002, 100002, 100002, 100002, 100002, 100002, 100002, 100002, 100002, 100002, 100002, 100002, 100002, 100002, 100002, 100002, 100002, 100002, 100002, 100002, 100002, 100002, 100002, 100002, 100002, 100002, 100002, 100002, 100002, 100002, 100002, 100002, 100002, 100002, 100002, 100002, 100002, 100002, 100002, 100002, 100002, 100002, 100002, 100002, 100002, 100002, 100002, 100002, 100002, 100002, 100002, 100002, 100002, 100002, 100002, 100002, 100002, 100002, 100002, 100002, 100002, 100002, 100002, 100002, 100002, 100000, 40, 487, 76, 8670, 754, 304, 487, 76, 2823, 11, 285, 304, 487, 76, 2577, 754, 304, 487, 76, 1712, 13, 2461, 608, 304, 30], 'attention_mask': [0, 0, 0, 0, 0, 0, 0, 0, 0, 0, 0, 0, 0, 0, 0, 0, 0, 0, 0, 0, 0, 0, 0, 0, 0, 0, 0, 0, 0, 0, 0, 0, 0, 0, 0, 0, 0, 0, 0, 0, 0, 0, 0, 0, 0, 0, 0, 0, 0, 0, 0, 0, 0, 0, 0, 0, 0, 0, 0, 0, 0, 0, 0, 0, 0, 0, 0, 0, 0, 0, 0, 0, 0, 0, 0, 0, 0, 0, 0, 0, 0, 0, 0, 0, 0, 0, 0, 0, 0, 0, 0, 0, 0, 0, 0, 0, 0, 0, 0, 0, 0, 0, 0, 0, 0, 0, 0, 0, 0, 0, 0, 0, 0, 0, 0, 0, 0, 0, 0, 0, 0, 0, 0, 0, 0, 0, 0, 0, 0, 0, 0, 0, 0, 0, 0, 0, 0, 0, 0, 0, 0, 0, 0, 0, 0, 0, 0, 0, 0, 0, 0, 0, 0, 0, 0, 0, 0, 0, 0, 0, 0, 0, 0, 0, 0, 0, 0, 0, 0, 0, 0, 0, 0, 0, 0, 0, 0, 0, 0, 0, 0, 0, 0, 0, 0, 0, 0, 0, 0, 0, 0, 0, 0, 0, 0, 0, 0, 0, 0, 0, 0, 0, 0, 0, 0, 0, 0, 0, 0, 0, 0, 0, 0, 0, 0, 0, 0, 0, 0, 0, 0, 0, 0, 0, 0, 0, 0, 0, 0, 0, 0, 0, 0, 0, 0, 0, 0, 0, 0, 0, 0, 0, 0, 0, 0, 0, 0, 0, 0, 0, 0, 0, 0, 0, 0, 0, 0, 0, 0, 0, 0, 0, 0, 0, 0, 0, 0, 0, 0, 0, 0, 0, 0, 0, 0, 0, 0, 0, 0, 0, 0, 0, 0, 0, 0, 0, 0, 0, 0, 0, 0, 0, 0, 0, 0, 0, 0, 0, 0, 0, 0, 0, 0, 0, 0, 0, 0, 0, 0, 0, 0, 0, 0, 0, 0, 0, 0, 0, 0, 0, 0, 0, 0, 0, 0, 0, 0, 0, 0, 0, 0, 0, 0, 0, 0, 0, 0, 0, 0, 0, 0, 0, 0, 0, 0, 0, 0, 0, 0, 0, 0, 0, 0, 0, 0, 0, 0, 0, 0, 0, 0, 0, 0, 0, 0, 0, 0, 0, 0, 0, 0, 0, 0, 0, 0, 0, 0, 0, 0, 0, 0, 0, 0, 0, 0, 0, 0, 0, 0, 0, 0, 0, 0, 0, 0, 0, 0, 0, 0, 0, 0, 0, 0, 0, 0, 0, 0, 0, 0, 0, 0, 0, 0, 0, 0, 0, 0, 0, 0, 0, 0, 0, 0, 0, 0, 0, 0, 0, 0, 0, 0, 0, 0, 0, 0, 0, 0, 0, 0, 0, 0, 0, 0, 0, 0, 0, 0, 0, 0, 0, 0, 0, 0, 0, 0, 0, 0, 0, 0, 0, 0, 0, 0, 0, 0, 0, 0, 0, 0, 0, 0, 0, 0, 0, 0, 0, 0, 0, 0, 0, 0, 0, 0, 0, 0, 0, 1, 1, 1, 1, 1, 1, 1, 1, 1, 1, 1, 1, 1, 1, 1, 1, 1, 1, 1, 1, 1, 1, 1, 1, 1, 1], 'labels': [100002, 100002, 100002, 100002, 100002, 100002, 100002, 100002, 100002, 100002, 100002, 100002, 100002, 100002, 100002, 100002, 100002, 100002, 100002, 100002, 100002, 100002, 100002, 100002, 100002, 100002, 100002, 100002, 100002, 100002, 100002, 100002, 100002, 100002, 100002, 100002, 100002, 100002, 100002, 100002, 100002, 100002, 100002, 100002, 100002, 100002, 100002, 100002, 100002, 100002, 100002, 100002, 100002, 100002, 100002, 100002, 100002, 100002, 100002, 100002, 100002, 100002, 100002, 100002, 100002, 100002, 100002, 100002, 100002, 100002, 100002, 100002, 100002, 100002, 100002, 100002, 100002, 100002, 100002, 100002, 100002, 100002, 100002, 100002, 100002, 100002, 100002, 100002, 100002, 100002, 100002, 100002, 100002, 100002, 100002, 100002, 100002, 100002, 100002, 100002, 100002, 100002, 100002, 100002, 100002, 100002, 100002, 100002, 100002, 100002, 100002, 100002, 100002, 100002, 100002, 100002, 100002, 100002, 100002, 100002, 100002, 100002, 100002, 100002, 100002, 100002, 100002, 100002, 100002, 100002, 100002, 100002, 100002, 100002, 100002, 100002, 100002, 100002, 100002, 100002, 100002, 100002, 100002, 100002, 100002, 100002, 100002, 100002, 100002, 100002, 100002, 100002, 100002, 100002, 100002, 100002, 100002, 100002, 100002, 100002, 100002, 100002, 100002, 100002, 100002, 100002, 100002, 100002, 100002, 100002, 100002, 100002, 100002, 100002, 100002, 100002, 100002, 100002, 100002, 100002, 100002, 100002, 100002, 100002, 100002, 100002, 100002, 100002, 100002, 100002, 100002, 100002, 100002, 100002, 100002, 100002, 100002, 100002, 100002, 100002, 100002, 100002, 100002, 100002, 100002, 100002, 100002, 100002, 100002, 100002, 100002, 100002, 100002, 100002, 100002, 100002, 100002, 100002, 100002, 100002, 100002, 100002, 100002, 100002, 100002, 100002, 100002, 100002, 100002, 100002, 100002, 100002, 100002, 100002, 100002, 100002, 100002, 100002, 100002, 100002, 100002, 100002, 100002, 100002, 100002, 100002, 100002, 100002, 100002, 100002, 100002, 100002, 100002, 100002, 100002, 100002, 100002, 100002, 100002, 100002, 100002, 100002, 100002, 100002, 100002, 100002, 100002, 100002, 100002, 100002, 100002, 100002, 100002, 100002, 100002, 100002, 100002, 100002, 100002, 100002, 100002, 100002, 100002, 100002, 100002, 100002, 100002, 100002, 100002, 100002, 100002, 100002, 100002, 100002, 100002, 100002, 100002, 100002, 100002, 100002, 100002, 100002, 100002, 100002, 100002, 100002, 100002, 100002, 100002, 100002, 100002, 100002, 100002, 100002, 100002, 100002, 100002, 100002, 100002, 100002, 100002, 100002, 100002, 100002, 100002, 100002, 100002, 100002, 100002, 100002, 100002, 100002, 100002, 100002, 100002, 100002, 100002, 100002, 100002, 100002, 100002, 100002, 100002, 100002, 100002, 100002, 100002, 100002, 100002, 100002, 100002, 100002, 100002, 100002, 100002, 100002, 100002, 100002, 100002, 100002, 100002, 100002, 100002, 100002, 100002, 100002, 100002, 100002, 100002, 100002, 100002, 100002, 100002, 100002, 100002, 100002, 100002, 100002, 100002, 100002, 100002, 100002, 100002, 100002, 100002, 100002, 100002, 100002, 100002, 100002, 100002, 100002, 100002, 100002, 100002, 100002, 100002, 100002, 100002, 100002, 100002, 100002, 100002, 100002, 100002, 100002, 100002, 100002, 100002, 100002, 100002, 100002, 100002, 100002, 100002, 100002, 100002, 100002, 100002, 100002, 100002, 100002, 100002, 100002, 100002, 100002, 100002, 100002, 100002, 100002, 100002, 100002, 100002, 100002, 100002, 100002, 100002, 100002, 100002, 100002, 100002, 100002, 100002, 100002, 100002, 100002, 100002, 100002, 100002, 100002, 100002, 100002, 100002, 100002, 100002, 100002, 100002, 100002, 100002, 100002, 100002, 100002, 100002, 100002, 100002, 100002, 100002, 100002, 100002, 100002, 100002, 100002, 100002, 100002, 100002, 100002, 100002, 100002, 100002, 100002, 100002, 100002, 100002, 100002, 100002, 100002, 100002, 100002, 100002, 100002, 100002, 100002, 100002, 100002, 100002, 100002, 100002, 100002, 100002, 100002, 100002, 100002, 100002, 100002, 100002, 100002, 100002, 100002, 100002, 100000, 32, 26987]}\n",
            "Decoded input: <|PAD_TOKEN|><|PAD_TOKEN|><|PAD_TOKEN|><|PAD_TOKEN|><|PAD_TOKEN|><|PAD_TOKEN|><|PAD_TOKEN|><|PAD_TOKEN|><|PAD_TOKEN|><|PAD_TOKEN|><|PAD_TOKEN|><|PAD_TOKEN|><|PAD_TOKEN|><|PAD_TOKEN|><|PAD_TOKEN|><|PAD_TOKEN|><|PAD_TOKEN|><|PAD_TOKEN|><|PAD_TOKEN|><|PAD_TOKEN|><|PAD_TOKEN|><|PAD_TOKEN|><|PAD_TOKEN|><|PAD_TOKEN|><|PAD_TOKEN|><|PAD_TOKEN|><|PAD_TOKEN|><|PAD_TOKEN|><|PAD_TOKEN|><|PAD_TOKEN|><|PAD_TOKEN|><|PAD_TOKEN|><|PAD_TOKEN|><|PAD_TOKEN|><|PAD_TOKEN|><|PAD_TOKEN|><|PAD_TOKEN|><|PAD_TOKEN|><|PAD_TOKEN|><|PAD_TOKEN|><|PAD_TOKEN|><|PAD_TOKEN|><|PAD_TOKEN|><|PAD_TOKEN|><|PAD_TOKEN|><|PAD_TOKEN|><|PAD_TOKEN|><|PAD_TOKEN|><|PAD_TOKEN|><|PAD_TOKEN|><|PAD_TOKEN|><|PAD_TOKEN|><|PAD_TOKEN|><|PAD_TOKEN|><|PAD_TOKEN|><|PAD_TOKEN|><|PAD_TOKEN|><|PAD_TOKEN|><|PAD_TOKEN|><|PAD_TOKEN|><|PAD_TOKEN|><|PAD_TOKEN|><|PAD_TOKEN|><|PAD_TOKEN|><|PAD_TOKEN|><|PAD_TOKEN|><|PAD_TOKEN|><|PAD_TOKEN|><|PAD_TOKEN|><|PAD_TOKEN|><|PAD_TOKEN|><|PAD_TOKEN|><|PAD_TOKEN|><|PAD_TOKEN|><|PAD_TOKEN|><|PAD_TOKEN|><|PAD_TOKEN|><|PAD_TOKEN|><|PAD_TOKEN|><|PAD_TOKEN|><|PAD_TOKEN|><|PAD_TOKEN|><|PAD_TOKEN|><|PAD_TOKEN|><|PAD_TOKEN|><|PAD_TOKEN|><|PAD_TOKEN|><|PAD_TOKEN|><|PAD_TOKEN|><|PAD_TOKEN|><|PAD_TOKEN|><|PAD_TOKEN|><|PAD_TOKEN|><|PAD_TOKEN|><|PAD_TOKEN|><|PAD_TOKEN|><|PAD_TOKEN|><|PAD_TOKEN|><|PAD_TOKEN|><|PAD_TOKEN|><|PAD_TOKEN|><|PAD_TOKEN|><|PAD_TOKEN|><|PAD_TOKEN|><|PAD_TOKEN|><|PAD_TOKEN|><|PAD_TOKEN|><|PAD_TOKEN|><|PAD_TOKEN|><|PAD_TOKEN|><|PAD_TOKEN|><|PAD_TOKEN|><|PAD_TOKEN|><|PAD_TOKEN|><|PAD_TOKEN|><|PAD_TOKEN|><|PAD_TOKEN|><|PAD_TOKEN|><|PAD_TOKEN|><|PAD_TOKEN|><|PAD_TOKEN|><|PAD_TOKEN|><|PAD_TOKEN|><|PAD_TOKEN|><|PAD_TOKEN|><|PAD_TOKEN|><|PAD_TOKEN|><|PAD_TOKEN|><|PAD_TOKEN|><|PAD_TOKEN|><|PAD_TOKEN|><|PAD_TOKEN|><|PAD_TOKEN|><|PAD_TOKEN|><|PAD_TOKEN|><|PAD_TOKEN|><|PAD_TOKEN|><|PAD_TOKEN|><|PAD_TOKEN|><|PAD_TOKEN|><|PAD_TOKEN|><|PAD_TOKEN|><|PAD_TOKEN|><|PAD_TOKEN|><|PAD_TOKEN|><|PAD_TOKEN|><|PAD_TOKEN|><|PAD_TOKEN|><|PAD_TOKEN|><|PAD_TOKEN|><|PAD_TOKEN|><|PAD_TOKEN|><|PAD_TOKEN|><|PAD_TOKEN|><|PAD_TOKEN|><|PAD_TOKEN|><|PAD_TOKEN|><|PAD_TOKEN|><|PAD_TOKEN|><|PAD_TOKEN|><|PAD_TOKEN|><|PAD_TOKEN|><|PAD_TOKEN|><|PAD_TOKEN|><|PAD_TOKEN|><|PAD_TOKEN|><|PAD_TOKEN|><|PAD_TOKEN|><|PAD_TOKEN|><|PAD_TOKEN|><|PAD_TOKEN|><|PAD_TOKEN|><|PAD_TOKEN|><|PAD_TOKEN|><|PAD_TOKEN|><|PAD_TOKEN|><|PAD_TOKEN|><|PAD_TOKEN|><|PAD_TOKEN|><|PAD_TOKEN|><|PAD_TOKEN|><|PAD_TOKEN|><|PAD_TOKEN|><|PAD_TOKEN|><|PAD_TOKEN|><|PAD_TOKEN|><|PAD_TOKEN|><|PAD_TOKEN|><|PAD_TOKEN|><|PAD_TOKEN|><|PAD_TOKEN|><|PAD_TOKEN|><|PAD_TOKEN|><|PAD_TOKEN|><|PAD_TOKEN|><|PAD_TOKEN|><|PAD_TOKEN|><|PAD_TOKEN|><|PAD_TOKEN|><|PAD_TOKEN|><|PAD_TOKEN|><|PAD_TOKEN|><|PAD_TOKEN|><|PAD_TOKEN|><|PAD_TOKEN|><|PAD_TOKEN|><|PAD_TOKEN|><|PAD_TOKEN|><|PAD_TOKEN|><|PAD_TOKEN|><|PAD_TOKEN|><|PAD_TOKEN|><|PAD_TOKEN|><|PAD_TOKEN|><|PAD_TOKEN|><|PAD_TOKEN|><|PAD_TOKEN|><|PAD_TOKEN|><|PAD_TOKEN|><|PAD_TOKEN|><|PAD_TOKEN|><|PAD_TOKEN|><|PAD_TOKEN|><|PAD_TOKEN|><|PAD_TOKEN|><|PAD_TOKEN|><|PAD_TOKEN|><|PAD_TOKEN|><|PAD_TOKEN|><|PAD_TOKEN|><|PAD_TOKEN|><|PAD_TOKEN|><|PAD_TOKEN|><|PAD_TOKEN|><|PAD_TOKEN|><|PAD_TOKEN|><|PAD_TOKEN|><|PAD_TOKEN|><|PAD_TOKEN|><|PAD_TOKEN|><|PAD_TOKEN|><|PAD_TOKEN|><|PAD_TOKEN|><|PAD_TOKEN|><|PAD_TOKEN|><|PAD_TOKEN|><|PAD_TOKEN|><|PAD_TOKEN|><|PAD_TOKEN|><|PAD_TOKEN|><|PAD_TOKEN|><|PAD_TOKEN|><|PAD_TOKEN|><|PAD_TOKEN|><|PAD_TOKEN|><|PAD_TOKEN|><|PAD_TOKEN|><|PAD_TOKEN|><|PAD_TOKEN|><|PAD_TOKEN|><|PAD_TOKEN|><|PAD_TOKEN|><|PAD_TOKEN|><|PAD_TOKEN|><|PAD_TOKEN|><|PAD_TOKEN|><|PAD_TOKEN|><|PAD_TOKEN|><|PAD_TOKEN|><|PAD_TOKEN|><|PAD_TOKEN|><|PAD_TOKEN|><|PAD_TOKEN|><|PAD_TOKEN|><|PAD_TOKEN|><|PAD_TOKEN|><|PAD_TOKEN|><|PAD_TOKEN|><|PAD_TOKEN|><|PAD_TOKEN|><|PAD_TOKEN|><|PAD_TOKEN|><|PAD_TOKEN|><|PAD_TOKEN|><|PAD_TOKEN|><|PAD_TOKEN|><|PAD_TOKEN|><|PAD_TOKEN|><|PAD_TOKEN|><|PAD_TOKEN|><|PAD_TOKEN|><|PAD_TOKEN|><|PAD_TOKEN|><|PAD_TOKEN|><|PAD_TOKEN|><|PAD_TOKEN|><|PAD_TOKEN|><|PAD_TOKEN|><|PAD_TOKEN|><|PAD_TOKEN|><|PAD_TOKEN|><|PAD_TOKEN|><|PAD_TOKEN|><|PAD_TOKEN|><|PAD_TOKEN|><|PAD_TOKEN|><|PAD_TOKEN|><|PAD_TOKEN|><|PAD_TOKEN|><|PAD_TOKEN|><|PAD_TOKEN|><|PAD_TOKEN|><|PAD_TOKEN|><|PAD_TOKEN|><|PAD_TOKEN|><|PAD_TOKEN|><|PAD_TOKEN|><|PAD_TOKEN|><|PAD_TOKEN|><|PAD_TOKEN|><|PAD_TOKEN|><|PAD_TOKEN|><|PAD_TOKEN|><|PAD_TOKEN|><|PAD_TOKEN|><|PAD_TOKEN|><|PAD_TOKEN|><|PAD_TOKEN|><|PAD_TOKEN|><|PAD_TOKEN|><|PAD_TOKEN|><|PAD_TOKEN|><|PAD_TOKEN|><|PAD_TOKEN|><|PAD_TOKEN|><|PAD_TOKEN|><|PAD_TOKEN|><|PAD_TOKEN|><|PAD_TOKEN|><|PAD_TOKEN|><|PAD_TOKEN|><|PAD_TOKEN|><|PAD_TOKEN|><|PAD_TOKEN|><|PAD_TOKEN|><|PAD_TOKEN|><|PAD_TOKEN|><|PAD_TOKEN|><|PAD_TOKEN|><|PAD_TOKEN|><|PAD_TOKEN|><|PAD_TOKEN|><|PAD_TOKEN|><|PAD_TOKEN|><|PAD_TOKEN|><|PAD_TOKEN|><|PAD_TOKEN|><|PAD_TOKEN|><|PAD_TOKEN|><|PAD_TOKEN|><|PAD_TOKEN|><|PAD_TOKEN|><|PAD_TOKEN|><|PAD_TOKEN|><|PAD_TOKEN|><|PAD_TOKEN|><|PAD_TOKEN|><|PAD_TOKEN|><|PAD_TOKEN|><|PAD_TOKEN|><|PAD_TOKEN|><|PAD_TOKEN|><|PAD_TOKEN|><|PAD_TOKEN|><|PAD_TOKEN|><|PAD_TOKEN|><|PAD_TOKEN|><|PAD_TOKEN|><|PAD_TOKEN|><|PAD_TOKEN|><|PAD_TOKEN|><|PAD_TOKEN|><|PAD_TOKEN|><|PAD_TOKEN|><|PAD_TOKEN|><|PAD_TOKEN|><|PAD_TOKEN|><|PAD_TOKEN|><|PAD_TOKEN|><|PAD_TOKEN|><|PAD_TOKEN|><|PAD_TOKEN|><|PAD_TOKEN|><|PAD_TOKEN|><|PAD_TOKEN|><|PAD_TOKEN|><|PAD_TOKEN|><|PAD_TOKEN|><|PAD_TOKEN|><|PAD_TOKEN|><|PAD_TOKEN|><|PAD_TOKEN|><|PAD_TOKEN|><|PAD_TOKEN|><|PAD_TOKEN|><|PAD_TOKEN|><|PAD_TOKEN|><|PAD_TOKEN|><|PAD_TOKEN|><|PAD_TOKEN|><|PAD_TOKEN|><|PAD_TOKEN|><|PAD_TOKEN|><|PAD_TOKEN|><|PAD_TOKEN|><|PAD_TOKEN|><|PAD_TOKEN|><|PAD_TOKEN|><|PAD_TOKEN|><|PAD_TOKEN|><|PAD_TOKEN|><|PAD_TOKEN|><|PAD_TOKEN|><|PAD_TOKEN|><|PAD_TOKEN|><|PAD_TOKEN|><|PAD_TOKEN|><|PAD_TOKEN|><|PAD_TOKEN|><|PAD_TOKEN|><|PAD_TOKEN|><|PAD_TOKEN|><|PAD_TOKEN|><|PAD_TOKEN|><|PAD_TOKEN|><|PAD_TOKEN|><|PAD_TOKEN|><|PAD_TOKEN|><|PAD_TOKEN|><|PAD_TOKEN|><|PAD_TOKEN|><|PAD_TOKEN|><|PAD_TOKEN|><|PAD_TOKEN|><|PAD_TOKEN|><|PAD_TOKEN|><|PAD_TOKEN|><|PAD_TOKEN|><|PAD_TOKEN|><|PAD_TOKEN|><|PAD_TOKEN|><|PAD_TOKEN|><|PAD_TOKEN|><|PAD_TOKEN|><|PAD_TOKEN|><|PAD_TOKEN|><|PAD_TOKEN|><|PAD_TOKEN|><|PAD_TOKEN|><|PAD_TOKEN|><|PAD_TOKEN|><|PAD_TOKEN|><|PAD_TOKEN|><|PAD_TOKEN|><|PAD_TOKEN|><|PAD_TOKEN|><|PAD_TOKEN|><|PAD_TOKEN|><|PAD_TOKEN|><|PAD_TOKEN|><|PAD_TOKEN|><|PAD_TOKEN|><|PAD_TOKEN|><|PAD_TOKEN|><|PAD_TOKEN|><|PAD_TOKEN|><|PAD_TOKEN|><|PAD_TOKEN|><|PAD_TOKEN|><|PAD_TOKEN|><|PAD_TOKEN|><|PAD_TOKEN|><|PAD_TOKEN|><|PAD_TOKEN|><|PAD_TOKEN|><|PAD_TOKEN|><｜begin▁of▁sentence｜>I’m tall when I’m young, and I’m short when I’m old. What am I?\n",
            "Decoded labels: <|PAD_TOKEN|><|PAD_TOKEN|><|PAD_TOKEN|><|PAD_TOKEN|><|PAD_TOKEN|><|PAD_TOKEN|><|PAD_TOKEN|><|PAD_TOKEN|><|PAD_TOKEN|><|PAD_TOKEN|><|PAD_TOKEN|><|PAD_TOKEN|><|PAD_TOKEN|><|PAD_TOKEN|><|PAD_TOKEN|><|PAD_TOKEN|><|PAD_TOKEN|><|PAD_TOKEN|><|PAD_TOKEN|><|PAD_TOKEN|><|PAD_TOKEN|><|PAD_TOKEN|><|PAD_TOKEN|><|PAD_TOKEN|><|PAD_TOKEN|><|PAD_TOKEN|><|PAD_TOKEN|><|PAD_TOKEN|><|PAD_TOKEN|><|PAD_TOKEN|><|PAD_TOKEN|><|PAD_TOKEN|><|PAD_TOKEN|><|PAD_TOKEN|><|PAD_TOKEN|><|PAD_TOKEN|><|PAD_TOKEN|><|PAD_TOKEN|><|PAD_TOKEN|><|PAD_TOKEN|><|PAD_TOKEN|><|PAD_TOKEN|><|PAD_TOKEN|><|PAD_TOKEN|><|PAD_TOKEN|><|PAD_TOKEN|><|PAD_TOKEN|><|PAD_TOKEN|><|PAD_TOKEN|><|PAD_TOKEN|><|PAD_TOKEN|><|PAD_TOKEN|><|PAD_TOKEN|><|PAD_TOKEN|><|PAD_TOKEN|><|PAD_TOKEN|><|PAD_TOKEN|><|PAD_TOKEN|><|PAD_TOKEN|><|PAD_TOKEN|><|PAD_TOKEN|><|PAD_TOKEN|><|PAD_TOKEN|><|PAD_TOKEN|><|PAD_TOKEN|><|PAD_TOKEN|><|PAD_TOKEN|><|PAD_TOKEN|><|PAD_TOKEN|><|PAD_TOKEN|><|PAD_TOKEN|><|PAD_TOKEN|><|PAD_TOKEN|><|PAD_TOKEN|><|PAD_TOKEN|><|PAD_TOKEN|><|PAD_TOKEN|><|PAD_TOKEN|><|PAD_TOKEN|><|PAD_TOKEN|><|PAD_TOKEN|><|PAD_TOKEN|><|PAD_TOKEN|><|PAD_TOKEN|><|PAD_TOKEN|><|PAD_TOKEN|><|PAD_TOKEN|><|PAD_TOKEN|><|PAD_TOKEN|><|PAD_TOKEN|><|PAD_TOKEN|><|PAD_TOKEN|><|PAD_TOKEN|><|PAD_TOKEN|><|PAD_TOKEN|><|PAD_TOKEN|><|PAD_TOKEN|><|PAD_TOKEN|><|PAD_TOKEN|><|PAD_TOKEN|><|PAD_TOKEN|><|PAD_TOKEN|><|PAD_TOKEN|><|PAD_TOKEN|><|PAD_TOKEN|><|PAD_TOKEN|><|PAD_TOKEN|><|PAD_TOKEN|><|PAD_TOKEN|><|PAD_TOKEN|><|PAD_TOKEN|><|PAD_TOKEN|><|PAD_TOKEN|><|PAD_TOKEN|><|PAD_TOKEN|><|PAD_TOKEN|><|PAD_TOKEN|><|PAD_TOKEN|><|PAD_TOKEN|><|PAD_TOKEN|><|PAD_TOKEN|><|PAD_TOKEN|><|PAD_TOKEN|><|PAD_TOKEN|><|PAD_TOKEN|><|PAD_TOKEN|><|PAD_TOKEN|><|PAD_TOKEN|><|PAD_TOKEN|><|PAD_TOKEN|><|PAD_TOKEN|><|PAD_TOKEN|><|PAD_TOKEN|><|PAD_TOKEN|><|PAD_TOKEN|><|PAD_TOKEN|><|PAD_TOKEN|><|PAD_TOKEN|><|PAD_TOKEN|><|PAD_TOKEN|><|PAD_TOKEN|><|PAD_TOKEN|><|PAD_TOKEN|><|PAD_TOKEN|><|PAD_TOKEN|><|PAD_TOKEN|><|PAD_TOKEN|><|PAD_TOKEN|><|PAD_TOKEN|><|PAD_TOKEN|><|PAD_TOKEN|><|PAD_TOKEN|><|PAD_TOKEN|><|PAD_TOKEN|><|PAD_TOKEN|><|PAD_TOKEN|><|PAD_TOKEN|><|PAD_TOKEN|><|PAD_TOKEN|><|PAD_TOKEN|><|PAD_TOKEN|><|PAD_TOKEN|><|PAD_TOKEN|><|PAD_TOKEN|><|PAD_TOKEN|><|PAD_TOKEN|><|PAD_TOKEN|><|PAD_TOKEN|><|PAD_TOKEN|><|PAD_TOKEN|><|PAD_TOKEN|><|PAD_TOKEN|><|PAD_TOKEN|><|PAD_TOKEN|><|PAD_TOKEN|><|PAD_TOKEN|><|PAD_TOKEN|><|PAD_TOKEN|><|PAD_TOKEN|><|PAD_TOKEN|><|PAD_TOKEN|><|PAD_TOKEN|><|PAD_TOKEN|><|PAD_TOKEN|><|PAD_TOKEN|><|PAD_TOKEN|><|PAD_TOKEN|><|PAD_TOKEN|><|PAD_TOKEN|><|PAD_TOKEN|><|PAD_TOKEN|><|PAD_TOKEN|><|PAD_TOKEN|><|PAD_TOKEN|><|PAD_TOKEN|><|PAD_TOKEN|><|PAD_TOKEN|><|PAD_TOKEN|><|PAD_TOKEN|><|PAD_TOKEN|><|PAD_TOKEN|><|PAD_TOKEN|><|PAD_TOKEN|><|PAD_TOKEN|><|PAD_TOKEN|><|PAD_TOKEN|><|PAD_TOKEN|><|PAD_TOKEN|><|PAD_TOKEN|><|PAD_TOKEN|><|PAD_TOKEN|><|PAD_TOKEN|><|PAD_TOKEN|><|PAD_TOKEN|><|PAD_TOKEN|><|PAD_TOKEN|><|PAD_TOKEN|><|PAD_TOKEN|><|PAD_TOKEN|><|PAD_TOKEN|><|PAD_TOKEN|><|PAD_TOKEN|><|PAD_TOKEN|><|PAD_TOKEN|><|PAD_TOKEN|><|PAD_TOKEN|><|PAD_TOKEN|><|PAD_TOKEN|><|PAD_TOKEN|><|PAD_TOKEN|><|PAD_TOKEN|><|PAD_TOKEN|><|PAD_TOKEN|><|PAD_TOKEN|><|PAD_TOKEN|><|PAD_TOKEN|><|PAD_TOKEN|><|PAD_TOKEN|><|PAD_TOKEN|><|PAD_TOKEN|><|PAD_TOKEN|><|PAD_TOKEN|><|PAD_TOKEN|><|PAD_TOKEN|><|PAD_TOKEN|><|PAD_TOKEN|><|PAD_TOKEN|><|PAD_TOKEN|><|PAD_TOKEN|><|PAD_TOKEN|><|PAD_TOKEN|><|PAD_TOKEN|><|PAD_TOKEN|><|PAD_TOKEN|><|PAD_TOKEN|><|PAD_TOKEN|><|PAD_TOKEN|><|PAD_TOKEN|><|PAD_TOKEN|><|PAD_TOKEN|><|PAD_TOKEN|><|PAD_TOKEN|><|PAD_TOKEN|><|PAD_TOKEN|><|PAD_TOKEN|><|PAD_TOKEN|><|PAD_TOKEN|><|PAD_TOKEN|><|PAD_TOKEN|><|PAD_TOKEN|><|PAD_TOKEN|><|PAD_TOKEN|><|PAD_TOKEN|><|PAD_TOKEN|><|PAD_TOKEN|><|PAD_TOKEN|><|PAD_TOKEN|><|PAD_TOKEN|><|PAD_TOKEN|><|PAD_TOKEN|><|PAD_TOKEN|><|PAD_TOKEN|><|PAD_TOKEN|><|PAD_TOKEN|><|PAD_TOKEN|><|PAD_TOKEN|><|PAD_TOKEN|><|PAD_TOKEN|><|PAD_TOKEN|><|PAD_TOKEN|><|PAD_TOKEN|><|PAD_TOKEN|><|PAD_TOKEN|><|PAD_TOKEN|><|PAD_TOKEN|><|PAD_TOKEN|><|PAD_TOKEN|><|PAD_TOKEN|><|PAD_TOKEN|><|PAD_TOKEN|><|PAD_TOKEN|><|PAD_TOKEN|><|PAD_TOKEN|><|PAD_TOKEN|><|PAD_TOKEN|><|PAD_TOKEN|><|PAD_TOKEN|><|PAD_TOKEN|><|PAD_TOKEN|><|PAD_TOKEN|><|PAD_TOKEN|><|PAD_TOKEN|><|PAD_TOKEN|><|PAD_TOKEN|><|PAD_TOKEN|><|PAD_TOKEN|><|PAD_TOKEN|><|PAD_TOKEN|><|PAD_TOKEN|><|PAD_TOKEN|><|PAD_TOKEN|><|PAD_TOKEN|><|PAD_TOKEN|><|PAD_TOKEN|><|PAD_TOKEN|><|PAD_TOKEN|><|PAD_TOKEN|><|PAD_TOKEN|><|PAD_TOKEN|><|PAD_TOKEN|><|PAD_TOKEN|><|PAD_TOKEN|><|PAD_TOKEN|><|PAD_TOKEN|><|PAD_TOKEN|><|PAD_TOKEN|><|PAD_TOKEN|><|PAD_TOKEN|><|PAD_TOKEN|><|PAD_TOKEN|><|PAD_TOKEN|><|PAD_TOKEN|><|PAD_TOKEN|><|PAD_TOKEN|><|PAD_TOKEN|><|PAD_TOKEN|><|PAD_TOKEN|><|PAD_TOKEN|><|PAD_TOKEN|><|PAD_TOKEN|><|PAD_TOKEN|><|PAD_TOKEN|><|PAD_TOKEN|><|PAD_TOKEN|><|PAD_TOKEN|><|PAD_TOKEN|><|PAD_TOKEN|><|PAD_TOKEN|><|PAD_TOKEN|><|PAD_TOKEN|><|PAD_TOKEN|><|PAD_TOKEN|><|PAD_TOKEN|><|PAD_TOKEN|><|PAD_TOKEN|><|PAD_TOKEN|><|PAD_TOKEN|><|PAD_TOKEN|><|PAD_TOKEN|><|PAD_TOKEN|><|PAD_TOKEN|><|PAD_TOKEN|><|PAD_TOKEN|><|PAD_TOKEN|><|PAD_TOKEN|><|PAD_TOKEN|><|PAD_TOKEN|><|PAD_TOKEN|><|PAD_TOKEN|><|PAD_TOKEN|><|PAD_TOKEN|><|PAD_TOKEN|><|PAD_TOKEN|><|PAD_TOKEN|><|PAD_TOKEN|><|PAD_TOKEN|><|PAD_TOKEN|><|PAD_TOKEN|><|PAD_TOKEN|><|PAD_TOKEN|><|PAD_TOKEN|><|PAD_TOKEN|><|PAD_TOKEN|><|PAD_TOKEN|><|PAD_TOKEN|><|PAD_TOKEN|><|PAD_TOKEN|><|PAD_TOKEN|><|PAD_TOKEN|><|PAD_TOKEN|><|PAD_TOKEN|><|PAD_TOKEN|><|PAD_TOKEN|><|PAD_TOKEN|><|PAD_TOKEN|><|PAD_TOKEN|><|PAD_TOKEN|><|PAD_TOKEN|><|PAD_TOKEN|><|PAD_TOKEN|><|PAD_TOKEN|><|PAD_TOKEN|><|PAD_TOKEN|><|PAD_TOKEN|><|PAD_TOKEN|><|PAD_TOKEN|><|PAD_TOKEN|><|PAD_TOKEN|><|PAD_TOKEN|><|PAD_TOKEN|><|PAD_TOKEN|><|PAD_TOKEN|><|PAD_TOKEN|><|PAD_TOKEN|><|PAD_TOKEN|><|PAD_TOKEN|><|PAD_TOKEN|><|PAD_TOKEN|><|PAD_TOKEN|><|PAD_TOKEN|><|PAD_TOKEN|><|PAD_TOKEN|><|PAD_TOKEN|><|PAD_TOKEN|><|PAD_TOKEN|><|PAD_TOKEN|><|PAD_TOKEN|><|PAD_TOKEN|><|PAD_TOKEN|><|PAD_TOKEN|><|PAD_TOKEN|><|PAD_TOKEN|><|PAD_TOKEN|><|PAD_TOKEN|><|PAD_TOKEN|><|PAD_TOKEN|><|PAD_TOKEN|><|PAD_TOKEN|><|PAD_TOKEN|><|PAD_TOKEN|><|PAD_TOKEN|><|PAD_TOKEN|><|PAD_TOKEN|><|PAD_TOKEN|><|PAD_TOKEN|><|PAD_TOKEN|><|PAD_TOKEN|><|PAD_TOKEN|><|PAD_TOKEN|><|PAD_TOKEN|><|PAD_TOKEN|><|PAD_TOKEN|><|PAD_TOKEN|><|PAD_TOKEN|><|PAD_TOKEN|><|PAD_TOKEN|><|PAD_TOKEN|><|PAD_TOKEN|><|PAD_TOKEN|><|PAD_TOKEN|><|PAD_TOKEN|><|PAD_TOKEN|><|PAD_TOKEN|><|PAD_TOKEN|><|PAD_TOKEN|><|PAD_TOKEN|><|PAD_TOKEN|><|PAD_TOKEN|><|PAD_TOKEN|><|PAD_TOKEN|><|PAD_TOKEN|><|PAD_TOKEN|><|PAD_TOKEN|><|PAD_TOKEN|><|PAD_TOKEN|><|PAD_TOKEN|><|PAD_TOKEN|><|PAD_TOKEN|><|PAD_TOKEN|><|PAD_TOKEN|><|PAD_TOKEN|><|PAD_TOKEN|><|PAD_TOKEN|><|PAD_TOKEN|><|PAD_TOKEN|><|PAD_TOKEN|><|PAD_TOKEN|><|PAD_TOKEN|><|PAD_TOKEN|><|PAD_TOKEN|><|PAD_TOKEN|><|PAD_TOKEN|><|PAD_TOKEN|><|PAD_TOKEN|><|PAD_TOKEN|><|PAD_TOKEN|><|PAD_TOKEN|><|PAD_TOKEN|><|PAD_TOKEN|><｜begin▁of▁sentence｜>A candle\n"
          ]
        }
      ]
    },
    {
      "cell_type": "code",
      "source": [
        "# Define training arguments\n",
        "training_args = TrainingArguments(\n",
        "    output_dir=\"./results\",\n",
        "    evaluation_strategy=\"epoch\",\n",
        "    learning_rate=2e-5,\n",
        "    per_device_train_batch_size=2,\n",
        "    per_device_eval_batch_size=2,\n",
        "    num_train_epochs=10,\n",
        "    weight_decay=0.01,\n",
        "    save_total_limit=2,\n",
        "    save_steps=500,\n",
        "    logging_dir=\"./logs\",\n",
        "    logging_steps=10,\n",
        "    fp16=True,  # Enable mixed precision training to save memory\n",
        ")"
      ],
      "metadata": {
        "colab": {
          "base_uri": "https://localhost:8080/"
        },
        "id": "JR64F9XD85kO",
        "outputId": "dc54391e-262f-4871-a8a0-b61f4b1cb8e4"
      },
      "execution_count": null,
      "outputs": [
        {
          "output_type": "stream",
          "name": "stderr",
          "text": [
            "/usr/local/lib/python3.11/dist-packages/transformers/training_args.py:1594: FutureWarning: `evaluation_strategy` is deprecated and will be removed in version 4.46 of 🤗 Transformers. Use `eval_strategy` instead\n",
            "  warnings.warn(\n"
          ]
        }
      ]
    },
    {
      "cell_type": "code",
      "source": [
        "# Define training arguments\n",
        "training_args = TrainingArguments(\n",
        "    output_dir=\"./results\",\n",
        "    evaluation_strategy=\"epoch\",\n",
        "    learning_rate=2e-5,\n",
        "    per_device_train_batch_size=2,\n",
        "    per_device_eval_batch_size=2,\n",
        "    num_train_epochs=50,\n",
        "    weight_decay=0.01,\n",
        "    save_total_limit=2,\n",
        "    save_steps=500,\n",
        "    logging_dir=\"./logs\",\n",
        "    logging_steps=10,\n",
        "    fp16=True,  # Enable mixed precision training to save memory\n",
        ")"
      ],
      "metadata": {
        "colab": {
          "base_uri": "https://localhost:8080/"
        },
        "id": "fVrLaxXq65pR",
        "outputId": "ab8faee5-8433-4e7a-d310-8691b70d205e"
      },
      "execution_count": null,
      "outputs": [
        {
          "output_type": "stream",
          "name": "stderr",
          "text": [
            "/usr/local/lib/python3.11/dist-packages/transformers/training_args.py:1594: FutureWarning: `evaluation_strategy` is deprecated and will be removed in version 4.46 of 🤗 Transformers. Use `eval_strategy` instead\n",
            "  warnings.warn(\n"
          ]
        }
      ]
    },
    {
      "cell_type": "code",
      "source": [
        "!pip install peft"
      ],
      "metadata": {
        "colab": {
          "base_uri": "https://localhost:8080/"
        },
        "id": "V_C-2VnU7Xaw",
        "outputId": "9d5d5a27-3eba-4789-cc37-c4d91ad205d4"
      },
      "execution_count": null,
      "outputs": [
        {
          "output_type": "stream",
          "name": "stdout",
          "text": [
            "Requirement already satisfied: peft in /usr/local/lib/python3.11/dist-packages (0.14.0)\n",
            "Requirement already satisfied: numpy>=1.17 in /usr/local/lib/python3.11/dist-packages (from peft) (2.0.2)\n",
            "Requirement already satisfied: packaging>=20.0 in /usr/local/lib/python3.11/dist-packages (from peft) (24.2)\n",
            "Requirement already satisfied: psutil in /usr/local/lib/python3.11/dist-packages (from peft) (5.9.5)\n",
            "Requirement already satisfied: pyyaml in /usr/local/lib/python3.11/dist-packages (from peft) (6.0.2)\n",
            "Requirement already satisfied: torch>=1.13.0 in /usr/local/lib/python3.11/dist-packages (from peft) (2.6.0+cu124)\n",
            "Requirement already satisfied: transformers in /usr/local/lib/python3.11/dist-packages (from peft) (4.49.0)\n",
            "Requirement already satisfied: tqdm in /usr/local/lib/python3.11/dist-packages (from peft) (4.67.1)\n",
            "Requirement already satisfied: accelerate>=0.21.0 in /usr/local/lib/python3.11/dist-packages (from peft) (1.5.2)\n",
            "Requirement already satisfied: safetensors in /usr/local/lib/python3.11/dist-packages (from peft) (0.5.3)\n",
            "Requirement already satisfied: huggingface-hub>=0.25.0 in /usr/local/lib/python3.11/dist-packages (from peft) (0.29.3)\n",
            "Requirement already satisfied: filelock in /usr/local/lib/python3.11/dist-packages (from huggingface-hub>=0.25.0->peft) (3.18.0)\n",
            "Requirement already satisfied: fsspec>=2023.5.0 in /usr/local/lib/python3.11/dist-packages (from huggingface-hub>=0.25.0->peft) (2024.12.0)\n",
            "Requirement already satisfied: requests in /usr/local/lib/python3.11/dist-packages (from huggingface-hub>=0.25.0->peft) (2.32.3)\n",
            "Requirement already satisfied: typing-extensions>=3.7.4.3 in /usr/local/lib/python3.11/dist-packages (from huggingface-hub>=0.25.0->peft) (4.12.2)\n",
            "Requirement already satisfied: networkx in /usr/local/lib/python3.11/dist-packages (from torch>=1.13.0->peft) (3.4.2)\n",
            "Requirement already satisfied: jinja2 in /usr/local/lib/python3.11/dist-packages (from torch>=1.13.0->peft) (3.1.6)\n",
            "Requirement already satisfied: nvidia-cuda-nvrtc-cu12==12.4.127 in /usr/local/lib/python3.11/dist-packages (from torch>=1.13.0->peft) (12.4.127)\n",
            "Requirement already satisfied: nvidia-cuda-runtime-cu12==12.4.127 in /usr/local/lib/python3.11/dist-packages (from torch>=1.13.0->peft) (12.4.127)\n",
            "Requirement already satisfied: nvidia-cuda-cupti-cu12==12.4.127 in /usr/local/lib/python3.11/dist-packages (from torch>=1.13.0->peft) (12.4.127)\n",
            "Requirement already satisfied: nvidia-cudnn-cu12==9.1.0.70 in /usr/local/lib/python3.11/dist-packages (from torch>=1.13.0->peft) (9.1.0.70)\n",
            "Requirement already satisfied: nvidia-cublas-cu12==12.4.5.8 in /usr/local/lib/python3.11/dist-packages (from torch>=1.13.0->peft) (12.4.5.8)\n",
            "Requirement already satisfied: nvidia-cufft-cu12==11.2.1.3 in /usr/local/lib/python3.11/dist-packages (from torch>=1.13.0->peft) (11.2.1.3)\n",
            "Requirement already satisfied: nvidia-curand-cu12==10.3.5.147 in /usr/local/lib/python3.11/dist-packages (from torch>=1.13.0->peft) (10.3.5.147)\n",
            "Requirement already satisfied: nvidia-cusolver-cu12==11.6.1.9 in /usr/local/lib/python3.11/dist-packages (from torch>=1.13.0->peft) (11.6.1.9)\n",
            "Requirement already satisfied: nvidia-cusparse-cu12==12.3.1.170 in /usr/local/lib/python3.11/dist-packages (from torch>=1.13.0->peft) (12.3.1.170)\n",
            "Requirement already satisfied: nvidia-cusparselt-cu12==0.6.2 in /usr/local/lib/python3.11/dist-packages (from torch>=1.13.0->peft) (0.6.2)\n",
            "Requirement already satisfied: nvidia-nccl-cu12==2.21.5 in /usr/local/lib/python3.11/dist-packages (from torch>=1.13.0->peft) (2.21.5)\n",
            "Requirement already satisfied: nvidia-nvtx-cu12==12.4.127 in /usr/local/lib/python3.11/dist-packages (from torch>=1.13.0->peft) (12.4.127)\n",
            "Requirement already satisfied: nvidia-nvjitlink-cu12==12.4.127 in /usr/local/lib/python3.11/dist-packages (from torch>=1.13.0->peft) (12.4.127)\n",
            "Requirement already satisfied: triton==3.2.0 in /usr/local/lib/python3.11/dist-packages (from torch>=1.13.0->peft) (3.2.0)\n",
            "Requirement already satisfied: sympy==1.13.1 in /usr/local/lib/python3.11/dist-packages (from torch>=1.13.0->peft) (1.13.1)\n",
            "Requirement already satisfied: mpmath<1.4,>=1.1.0 in /usr/local/lib/python3.11/dist-packages (from sympy==1.13.1->torch>=1.13.0->peft) (1.3.0)\n",
            "Requirement already satisfied: regex!=2019.12.17 in /usr/local/lib/python3.11/dist-packages (from transformers->peft) (2024.11.6)\n",
            "Requirement already satisfied: tokenizers<0.22,>=0.21 in /usr/local/lib/python3.11/dist-packages (from transformers->peft) (0.21.1)\n",
            "Requirement already satisfied: MarkupSafe>=2.0 in /usr/local/lib/python3.11/dist-packages (from jinja2->torch>=1.13.0->peft) (3.0.2)\n",
            "Requirement already satisfied: charset-normalizer<4,>=2 in /usr/local/lib/python3.11/dist-packages (from requests->huggingface-hub>=0.25.0->peft) (3.4.1)\n",
            "Requirement already satisfied: idna<4,>=2.5 in /usr/local/lib/python3.11/dist-packages (from requests->huggingface-hub>=0.25.0->peft) (3.10)\n",
            "Requirement already satisfied: urllib3<3,>=1.21.1 in /usr/local/lib/python3.11/dist-packages (from requests->huggingface-hub>=0.25.0->peft) (2.3.0)\n",
            "Requirement already satisfied: certifi>=2017.4.17 in /usr/local/lib/python3.11/dist-packages (from requests->huggingface-hub>=0.25.0->peft) (2025.1.31)\n"
          ]
        }
      ]
    },
    {
      "cell_type": "code",
      "source": [
        "# Define LoRA configuration for PEFT\n",
        "lora_config = LoraConfig(\n",
        "    r=16,  # Rank of the low-rank adaptation\n",
        "    lora_alpha=32,  # Scaling factor\n",
        "    target_modules=[\"q_proj\", \"v_proj\"],  # Target modules for LoRA\n",
        "    lora_dropout=0.05,  # Dropout for LoRA\n",
        "    bias=\"none\",  # No bias\n",
        "    task_type=\"SEQ_2_SEQ_LM\",  # Task type for sequence-to-sequence models\n",
        ")\n",
        "\n",
        "# Wrap the model with PEFT\n",
        "model = get_peft_model(model, lora_config)"
      ],
      "metadata": {
        "id": "iqpBpObC6-dW"
      },
      "execution_count": null,
      "outputs": []
    },
    {
      "cell_type": "code",
      "source": [
        "# Define the Trainer\n",
        "trainer = Trainer(\n",
        "    model=model,\n",
        "    args=training_args,\n",
        "    train_dataset=tokenized_dataset,\n",
        "    eval_dataset=tokenized_dataset,\n",
        ")"
      ],
      "metadata": {
        "id": "Z-Xo86GqD9Td"
      },
      "execution_count": null,
      "outputs": []
    },
    {
      "cell_type": "code",
      "source": [
        "trainer.train()"
      ],
      "metadata": {
        "colab": {
          "base_uri": "https://localhost:8080/",
          "height": 704
        },
        "id": "4L1-tbKN7d09",
        "outputId": "8a896df7-270f-4791-f758-11154aa92598"
      },
      "execution_count": null,
      "outputs": [
        {
          "output_type": "stream",
          "name": "stderr",
          "text": [
            "==((====))==  Unsloth - 2x faster free finetuning | Num GPUs used = 1\n",
            "   \\\\   /|    Num examples = 15 | Num Epochs = 50 | Total steps = 400\n",
            "O^O/ \\_/ \\    Batch size per device = 2 | Gradient accumulation steps = 1\n",
            "\\        /    Data Parallel GPUs = 1 | Total batch size (2 x 1 x 1) = 2\n",
            " \"-____-\"     Trainable parameters = 7,864,320/7,000,000,000 (0.11% trained)\n",
            "\u001b[34m\u001b[1mwandb\u001b[0m: \u001b[33mWARNING\u001b[0m The `run_name` is currently set to the same value as `TrainingArguments.output_dir`. If this was not intended, please specify a different run name by setting the `TrainingArguments.run_name` parameter.\n",
            "\u001b[34m\u001b[1mwandb\u001b[0m: Using wandb-core as the SDK backend.  Please refer to https://wandb.me/wandb-core for more information.\n",
            "\u001b[34m\u001b[1mwandb\u001b[0m: Currently logged in as: \u001b[33mf219054\u001b[0m (\u001b[33mf219054-national-university\u001b[0m) to \u001b[32mhttps://api.wandb.ai\u001b[0m. Use \u001b[1m`wandb login --relogin`\u001b[0m to force relogin\n"
          ]
        },
        {
          "output_type": "display_data",
          "data": {
            "text/plain": [
              "<IPython.core.display.HTML object>"
            ],
            "text/html": [
              "Tracking run with wandb version 0.19.8"
            ]
          },
          "metadata": {}
        },
        {
          "output_type": "display_data",
          "data": {
            "text/plain": [
              "<IPython.core.display.HTML object>"
            ],
            "text/html": [
              "Run data is saved locally in <code>/content/wandb/run-20250324_065745-fnzvlucd</code>"
            ]
          },
          "metadata": {}
        },
        {
          "output_type": "display_data",
          "data": {
            "text/plain": [
              "<IPython.core.display.HTML object>"
            ],
            "text/html": [
              "Syncing run <strong><a href='https://wandb.ai/f219054-national-university/huggingface/runs/fnzvlucd' target=\"_blank\">./results</a></strong> to <a href='https://wandb.ai/f219054-national-university/huggingface' target=\"_blank\">Weights & Biases</a> (<a href='https://wandb.me/developer-guide' target=\"_blank\">docs</a>)<br>"
            ]
          },
          "metadata": {}
        },
        {
          "output_type": "display_data",
          "data": {
            "text/plain": [
              "<IPython.core.display.HTML object>"
            ],
            "text/html": [
              " View project at <a href='https://wandb.ai/f219054-national-university/huggingface' target=\"_blank\">https://wandb.ai/f219054-national-university/huggingface</a>"
            ]
          },
          "metadata": {}
        },
        {
          "output_type": "display_data",
          "data": {
            "text/plain": [
              "<IPython.core.display.HTML object>"
            ],
            "text/html": [
              " View run at <a href='https://wandb.ai/f219054-national-university/huggingface/runs/fnzvlucd' target=\"_blank\">https://wandb.ai/f219054-national-university/huggingface/runs/fnzvlucd</a>"
            ]
          },
          "metadata": {}
        },
        {
          "output_type": "display_data",
          "data": {
            "text/plain": [
              "<IPython.core.display.HTML object>"
            ],
            "text/html": [
              "\n",
              "    <div>\n",
              "      \n",
              "      <progress value='25' max='400' style='width:300px; height:20px; vertical-align: middle;'></progress>\n",
              "      [ 25/400 00:53 < 14:34, 0.43 it/s, Epoch 3/50]\n",
              "    </div>\n",
              "    <table border=\"1\" class=\"dataframe\">\n",
              "  <thead>\n",
              " <tr style=\"text-align: left;\">\n",
              "      <th>Epoch</th>\n",
              "      <th>Training Loss</th>\n",
              "      <th>Validation Loss</th>\n",
              "    </tr>\n",
              "  </thead>\n",
              "  <tbody>\n",
              "    <tr>\n",
              "      <td>1</td>\n",
              "      <td>No log</td>\n",
              "      <td>6.138974</td>\n",
              "    </tr>\n",
              "    <tr>\n",
              "      <td>2</td>\n",
              "      <td>18.830900</td>\n",
              "      <td>6.088425</td>\n",
              "    </tr>\n",
              "  </tbody>\n",
              "</table><p>\n",
              "    <div>\n",
              "      \n",
              "      <progress value='7' max='8' style='width:300px; height:20px; vertical-align: middle;'></progress>\n",
              "      [7/8 00:05 < 00:00, 1.10 it/s]\n",
              "    </div>\n",
              "    "
            ]
          },
          "metadata": {}
        },
        {
          "output_type": "error",
          "ename": "KeyboardInterrupt",
          "evalue": "",
          "traceback": [
            "\u001b[0;31m---------------------------------------------------------------------------\u001b[0m",
            "\u001b[0;31mKeyboardInterrupt\u001b[0m                         Traceback (most recent call last)",
            "\u001b[0;32m<ipython-input-11-3435b262f1ae>\u001b[0m in \u001b[0;36m<cell line: 0>\u001b[0;34m()\u001b[0m\n\u001b[0;32m----> 1\u001b[0;31m \u001b[0mtrainer\u001b[0m\u001b[0;34m.\u001b[0m\u001b[0mtrain\u001b[0m\u001b[0;34m(\u001b[0m\u001b[0;34m)\u001b[0m\u001b[0;34m\u001b[0m\u001b[0;34m\u001b[0m\u001b[0m\n\u001b[0m",
            "\u001b[0;32m/usr/local/lib/python3.11/dist-packages/transformers/trainer.py\u001b[0m in \u001b[0;36mtrain\u001b[0;34m(self, resume_from_checkpoint, trial, ignore_keys_for_eval, **kwargs)\u001b[0m\n\u001b[1;32m   2239\u001b[0m                 \u001b[0mhf_hub_utils\u001b[0m\u001b[0;34m.\u001b[0m\u001b[0menable_progress_bars\u001b[0m\u001b[0;34m(\u001b[0m\u001b[0;34m)\u001b[0m\u001b[0;34m\u001b[0m\u001b[0;34m\u001b[0m\u001b[0m\n\u001b[1;32m   2240\u001b[0m         \u001b[0;32melse\u001b[0m\u001b[0;34m:\u001b[0m\u001b[0;34m\u001b[0m\u001b[0;34m\u001b[0m\u001b[0m\n\u001b[0;32m-> 2241\u001b[0;31m             return inner_training_loop(\n\u001b[0m\u001b[1;32m   2242\u001b[0m                 \u001b[0margs\u001b[0m\u001b[0;34m=\u001b[0m\u001b[0margs\u001b[0m\u001b[0;34m,\u001b[0m\u001b[0;34m\u001b[0m\u001b[0;34m\u001b[0m\u001b[0m\n\u001b[1;32m   2243\u001b[0m                 \u001b[0mresume_from_checkpoint\u001b[0m\u001b[0;34m=\u001b[0m\u001b[0mresume_from_checkpoint\u001b[0m\u001b[0;34m,\u001b[0m\u001b[0;34m\u001b[0m\u001b[0;34m\u001b[0m\u001b[0m\n",
            "\u001b[0;32m/usr/local/lib/python3.11/dist-packages/unsloth/models/llama.py\u001b[0m in \u001b[0;36m_fast_inner_training_loop\u001b[0;34m(self, batch_size, args, resume_from_checkpoint, trial, ignore_keys_for_eval)\u001b[0m\n",
            "\u001b[0;32m/usr/local/lib/python3.11/dist-packages/transformers/trainer.py\u001b[0m in \u001b[0;36m_maybe_log_save_evaluate\u001b[0;34m(self, tr_loss, grad_norm, model, trial, epoch, ignore_keys_for_eval, start_time)\u001b[0m\n\u001b[1;32m   3083\u001b[0m         \u001b[0mmetrics\u001b[0m \u001b[0;34m=\u001b[0m \u001b[0;32mNone\u001b[0m\u001b[0;34m\u001b[0m\u001b[0;34m\u001b[0m\u001b[0m\n\u001b[1;32m   3084\u001b[0m         \u001b[0;32mif\u001b[0m \u001b[0mself\u001b[0m\u001b[0;34m.\u001b[0m\u001b[0mcontrol\u001b[0m\u001b[0;34m.\u001b[0m\u001b[0mshould_evaluate\u001b[0m\u001b[0;34m:\u001b[0m\u001b[0;34m\u001b[0m\u001b[0;34m\u001b[0m\u001b[0m\n\u001b[0;32m-> 3085\u001b[0;31m             \u001b[0mmetrics\u001b[0m \u001b[0;34m=\u001b[0m \u001b[0mself\u001b[0m\u001b[0;34m.\u001b[0m\u001b[0m_evaluate\u001b[0m\u001b[0;34m(\u001b[0m\u001b[0mtrial\u001b[0m\u001b[0;34m,\u001b[0m \u001b[0mignore_keys_for_eval\u001b[0m\u001b[0;34m)\u001b[0m\u001b[0;34m\u001b[0m\u001b[0;34m\u001b[0m\u001b[0m\n\u001b[0m\u001b[1;32m   3086\u001b[0m             \u001b[0mis_new_best_metric\u001b[0m \u001b[0;34m=\u001b[0m \u001b[0mself\u001b[0m\u001b[0;34m.\u001b[0m\u001b[0m_determine_best_metric\u001b[0m\u001b[0;34m(\u001b[0m\u001b[0mmetrics\u001b[0m\u001b[0;34m=\u001b[0m\u001b[0mmetrics\u001b[0m\u001b[0;34m,\u001b[0m \u001b[0mtrial\u001b[0m\u001b[0;34m=\u001b[0m\u001b[0mtrial\u001b[0m\u001b[0;34m)\u001b[0m\u001b[0;34m\u001b[0m\u001b[0;34m\u001b[0m\u001b[0m\n\u001b[1;32m   3087\u001b[0m \u001b[0;34m\u001b[0m\u001b[0m\n",
            "\u001b[0;32m/usr/local/lib/python3.11/dist-packages/transformers/trainer.py\u001b[0m in \u001b[0;36m_evaluate\u001b[0;34m(self, trial, ignore_keys_for_eval, skip_scheduler)\u001b[0m\n\u001b[1;32m   3037\u001b[0m \u001b[0;34m\u001b[0m\u001b[0m\n\u001b[1;32m   3038\u001b[0m     \u001b[0;32mdef\u001b[0m \u001b[0m_evaluate\u001b[0m\u001b[0;34m(\u001b[0m\u001b[0mself\u001b[0m\u001b[0;34m,\u001b[0m \u001b[0mtrial\u001b[0m\u001b[0;34m,\u001b[0m \u001b[0mignore_keys_for_eval\u001b[0m\u001b[0;34m,\u001b[0m \u001b[0mskip_scheduler\u001b[0m\u001b[0;34m=\u001b[0m\u001b[0;32mFalse\u001b[0m\u001b[0;34m)\u001b[0m\u001b[0;34m:\u001b[0m\u001b[0;34m\u001b[0m\u001b[0;34m\u001b[0m\u001b[0m\n\u001b[0;32m-> 3039\u001b[0;31m         \u001b[0mmetrics\u001b[0m \u001b[0;34m=\u001b[0m \u001b[0mself\u001b[0m\u001b[0;34m.\u001b[0m\u001b[0mevaluate\u001b[0m\u001b[0;34m(\u001b[0m\u001b[0mignore_keys\u001b[0m\u001b[0;34m=\u001b[0m\u001b[0mignore_keys_for_eval\u001b[0m\u001b[0;34m)\u001b[0m\u001b[0;34m\u001b[0m\u001b[0;34m\u001b[0m\u001b[0m\n\u001b[0m\u001b[1;32m   3040\u001b[0m         \u001b[0mself\u001b[0m\u001b[0;34m.\u001b[0m\u001b[0m_report_to_hp_search\u001b[0m\u001b[0;34m(\u001b[0m\u001b[0mtrial\u001b[0m\u001b[0;34m,\u001b[0m \u001b[0mself\u001b[0m\u001b[0;34m.\u001b[0m\u001b[0mstate\u001b[0m\u001b[0;34m.\u001b[0m\u001b[0mglobal_step\u001b[0m\u001b[0;34m,\u001b[0m \u001b[0mmetrics\u001b[0m\u001b[0;34m)\u001b[0m\u001b[0;34m\u001b[0m\u001b[0;34m\u001b[0m\u001b[0m\n\u001b[1;32m   3041\u001b[0m \u001b[0;34m\u001b[0m\u001b[0m\n",
            "\u001b[0;32m/usr/local/lib/python3.11/dist-packages/transformers/trainer.py\u001b[0m in \u001b[0;36mevaluate\u001b[0;34m(self, eval_dataset, ignore_keys, metric_key_prefix)\u001b[0m\n\u001b[1;32m   4103\u001b[0m \u001b[0;34m\u001b[0m\u001b[0m\n\u001b[1;32m   4104\u001b[0m         \u001b[0meval_loop\u001b[0m \u001b[0;34m=\u001b[0m \u001b[0mself\u001b[0m\u001b[0;34m.\u001b[0m\u001b[0mprediction_loop\u001b[0m \u001b[0;32mif\u001b[0m \u001b[0mself\u001b[0m\u001b[0;34m.\u001b[0m\u001b[0margs\u001b[0m\u001b[0;34m.\u001b[0m\u001b[0muse_legacy_prediction_loop\u001b[0m \u001b[0;32melse\u001b[0m \u001b[0mself\u001b[0m\u001b[0;34m.\u001b[0m\u001b[0mevaluation_loop\u001b[0m\u001b[0;34m\u001b[0m\u001b[0;34m\u001b[0m\u001b[0m\n\u001b[0;32m-> 4105\u001b[0;31m         output = eval_loop(\n\u001b[0m\u001b[1;32m   4106\u001b[0m             \u001b[0meval_dataloader\u001b[0m\u001b[0;34m,\u001b[0m\u001b[0;34m\u001b[0m\u001b[0;34m\u001b[0m\u001b[0m\n\u001b[1;32m   4107\u001b[0m             \u001b[0mdescription\u001b[0m\u001b[0;34m=\u001b[0m\u001b[0;34m\"Evaluation\"\u001b[0m\u001b[0;34m,\u001b[0m\u001b[0;34m\u001b[0m\u001b[0;34m\u001b[0m\u001b[0m\n",
            "\u001b[0;32m/usr/local/lib/python3.11/dist-packages/transformers/trainer.py\u001b[0m in \u001b[0;36mevaluation_loop\u001b[0;34m(self, dataloader, description, prediction_loss_only, ignore_keys, metric_key_prefix)\u001b[0m\n\u001b[1;32m   4287\u001b[0m \u001b[0;34m\u001b[0m\u001b[0m\n\u001b[1;32m   4288\u001b[0m         \u001b[0;31m# Main evaluation loop\u001b[0m\u001b[0;34m\u001b[0m\u001b[0;34m\u001b[0m\u001b[0m\n\u001b[0;32m-> 4289\u001b[0;31m         \u001b[0;32mfor\u001b[0m \u001b[0mstep\u001b[0m\u001b[0;34m,\u001b[0m \u001b[0minputs\u001b[0m \u001b[0;32min\u001b[0m \u001b[0menumerate\u001b[0m\u001b[0;34m(\u001b[0m\u001b[0mdataloader\u001b[0m\u001b[0;34m)\u001b[0m\u001b[0;34m:\u001b[0m\u001b[0;34m\u001b[0m\u001b[0;34m\u001b[0m\u001b[0m\n\u001b[0m\u001b[1;32m   4290\u001b[0m             \u001b[0;31m# Update the observed num examples\u001b[0m\u001b[0;34m\u001b[0m\u001b[0;34m\u001b[0m\u001b[0m\n\u001b[1;32m   4291\u001b[0m             \u001b[0mobserved_batch_size\u001b[0m \u001b[0;34m=\u001b[0m \u001b[0mfind_batch_size\u001b[0m\u001b[0;34m(\u001b[0m\u001b[0minputs\u001b[0m\u001b[0;34m)\u001b[0m\u001b[0;34m\u001b[0m\u001b[0;34m\u001b[0m\u001b[0m\n",
            "\u001b[0;32m/usr/local/lib/python3.11/dist-packages/accelerate/data_loader.py\u001b[0m in \u001b[0;36m__iter__\u001b[0;34m(self)\u001b[0m\n\u001b[1;32m    573\u001b[0m                 \u001b[0;31m# But we still move it to the device so it is done before `StopIteration` is reached\u001b[0m\u001b[0;34m\u001b[0m\u001b[0;34m\u001b[0m\u001b[0m\n\u001b[1;32m    574\u001b[0m                 \u001b[0;32mif\u001b[0m \u001b[0mself\u001b[0m\u001b[0;34m.\u001b[0m\u001b[0mdevice\u001b[0m \u001b[0;32mis\u001b[0m \u001b[0;32mnot\u001b[0m \u001b[0;32mNone\u001b[0m\u001b[0;34m:\u001b[0m\u001b[0;34m\u001b[0m\u001b[0;34m\u001b[0m\u001b[0m\n\u001b[0;32m--> 575\u001b[0;31m                     \u001b[0mcurrent_batch\u001b[0m \u001b[0;34m=\u001b[0m \u001b[0msend_to_device\u001b[0m\u001b[0;34m(\u001b[0m\u001b[0mcurrent_batch\u001b[0m\u001b[0;34m,\u001b[0m \u001b[0mself\u001b[0m\u001b[0;34m.\u001b[0m\u001b[0mdevice\u001b[0m\u001b[0;34m,\u001b[0m \u001b[0mnon_blocking\u001b[0m\u001b[0;34m=\u001b[0m\u001b[0mself\u001b[0m\u001b[0;34m.\u001b[0m\u001b[0m_non_blocking\u001b[0m\u001b[0;34m)\u001b[0m\u001b[0;34m\u001b[0m\u001b[0;34m\u001b[0m\u001b[0m\n\u001b[0m\u001b[1;32m    576\u001b[0m                 \u001b[0mself\u001b[0m\u001b[0;34m.\u001b[0m\u001b[0m_update_state_dict\u001b[0m\u001b[0;34m(\u001b[0m\u001b[0;34m)\u001b[0m\u001b[0;34m\u001b[0m\u001b[0;34m\u001b[0m\u001b[0m\n\u001b[1;32m    577\u001b[0m                 \u001b[0mnext_batch\u001b[0m \u001b[0;34m=\u001b[0m \u001b[0mnext\u001b[0m\u001b[0;34m(\u001b[0m\u001b[0mdataloader_iter\u001b[0m\u001b[0;34m)\u001b[0m\u001b[0;34m\u001b[0m\u001b[0;34m\u001b[0m\u001b[0m\n",
            "\u001b[0;32m/usr/local/lib/python3.11/dist-packages/accelerate/utils/operations.py\u001b[0m in \u001b[0;36msend_to_device\u001b[0;34m(tensor, device, non_blocking, skip_keys)\u001b[0m\n\u001b[1;32m    181\u001b[0m             \u001b[0mskip_keys\u001b[0m \u001b[0;34m=\u001b[0m \u001b[0;34m[\u001b[0m\u001b[0;34m]\u001b[0m\u001b[0;34m\u001b[0m\u001b[0;34m\u001b[0m\u001b[0m\n\u001b[1;32m    182\u001b[0m         return type(tensor)(\n\u001b[0;32m--> 183\u001b[0;31m             {\n\u001b[0m\u001b[1;32m    184\u001b[0m                 \u001b[0mk\u001b[0m\u001b[0;34m:\u001b[0m \u001b[0mt\u001b[0m \u001b[0;32mif\u001b[0m \u001b[0mk\u001b[0m \u001b[0;32min\u001b[0m \u001b[0mskip_keys\u001b[0m \u001b[0;32melse\u001b[0m \u001b[0msend_to_device\u001b[0m\u001b[0;34m(\u001b[0m\u001b[0mt\u001b[0m\u001b[0;34m,\u001b[0m \u001b[0mdevice\u001b[0m\u001b[0;34m,\u001b[0m \u001b[0mnon_blocking\u001b[0m\u001b[0;34m=\u001b[0m\u001b[0mnon_blocking\u001b[0m\u001b[0;34m,\u001b[0m \u001b[0mskip_keys\u001b[0m\u001b[0;34m=\u001b[0m\u001b[0mskip_keys\u001b[0m\u001b[0;34m)\u001b[0m\u001b[0;34m\u001b[0m\u001b[0;34m\u001b[0m\u001b[0m\n\u001b[1;32m    185\u001b[0m                 \u001b[0;32mfor\u001b[0m \u001b[0mk\u001b[0m\u001b[0;34m,\u001b[0m \u001b[0mt\u001b[0m \u001b[0;32min\u001b[0m \u001b[0mtensor\u001b[0m\u001b[0;34m.\u001b[0m\u001b[0mitems\u001b[0m\u001b[0;34m(\u001b[0m\u001b[0;34m)\u001b[0m\u001b[0;34m\u001b[0m\u001b[0;34m\u001b[0m\u001b[0m\n",
            "\u001b[0;32m/usr/local/lib/python3.11/dist-packages/accelerate/utils/operations.py\u001b[0m in \u001b[0;36m<dictcomp>\u001b[0;34m(.0)\u001b[0m\n\u001b[1;32m    182\u001b[0m         return type(tensor)(\n\u001b[1;32m    183\u001b[0m             {\n\u001b[0;32m--> 184\u001b[0;31m                 \u001b[0mk\u001b[0m\u001b[0;34m:\u001b[0m \u001b[0mt\u001b[0m \u001b[0;32mif\u001b[0m \u001b[0mk\u001b[0m \u001b[0;32min\u001b[0m \u001b[0mskip_keys\u001b[0m \u001b[0;32melse\u001b[0m \u001b[0msend_to_device\u001b[0m\u001b[0;34m(\u001b[0m\u001b[0mt\u001b[0m\u001b[0;34m,\u001b[0m \u001b[0mdevice\u001b[0m\u001b[0;34m,\u001b[0m \u001b[0mnon_blocking\u001b[0m\u001b[0;34m=\u001b[0m\u001b[0mnon_blocking\u001b[0m\u001b[0;34m,\u001b[0m \u001b[0mskip_keys\u001b[0m\u001b[0;34m=\u001b[0m\u001b[0mskip_keys\u001b[0m\u001b[0;34m)\u001b[0m\u001b[0;34m\u001b[0m\u001b[0;34m\u001b[0m\u001b[0m\n\u001b[0m\u001b[1;32m    185\u001b[0m                 \u001b[0;32mfor\u001b[0m \u001b[0mk\u001b[0m\u001b[0;34m,\u001b[0m \u001b[0mt\u001b[0m \u001b[0;32min\u001b[0m \u001b[0mtensor\u001b[0m\u001b[0;34m.\u001b[0m\u001b[0mitems\u001b[0m\u001b[0;34m(\u001b[0m\u001b[0;34m)\u001b[0m\u001b[0;34m\u001b[0m\u001b[0;34m\u001b[0m\u001b[0m\n\u001b[1;32m    186\u001b[0m             }\n",
            "\u001b[0;32m/usr/local/lib/python3.11/dist-packages/accelerate/utils/operations.py\u001b[0m in \u001b[0;36msend_to_device\u001b[0;34m(tensor, device, non_blocking, skip_keys)\u001b[0m\n\u001b[1;32m    153\u001b[0m             \u001b[0mdevice\u001b[0m \u001b[0;34m=\u001b[0m \u001b[0;34m\"xpu:0\"\u001b[0m\u001b[0;34m\u001b[0m\u001b[0;34m\u001b[0m\u001b[0m\n\u001b[1;32m    154\u001b[0m         \u001b[0;32mtry\u001b[0m\u001b[0;34m:\u001b[0m\u001b[0;34m\u001b[0m\u001b[0;34m\u001b[0m\u001b[0m\n\u001b[0;32m--> 155\u001b[0;31m             \u001b[0;32mreturn\u001b[0m \u001b[0mtensor\u001b[0m\u001b[0;34m.\u001b[0m\u001b[0mto\u001b[0m\u001b[0;34m(\u001b[0m\u001b[0mdevice\u001b[0m\u001b[0;34m,\u001b[0m \u001b[0mnon_blocking\u001b[0m\u001b[0;34m=\u001b[0m\u001b[0mnon_blocking\u001b[0m\u001b[0;34m)\u001b[0m\u001b[0;34m\u001b[0m\u001b[0;34m\u001b[0m\u001b[0m\n\u001b[0m\u001b[1;32m    156\u001b[0m         \u001b[0;32mexcept\u001b[0m \u001b[0mTypeError\u001b[0m\u001b[0;34m:\u001b[0m  \u001b[0;31m# .to() doesn't accept non_blocking as kwarg\u001b[0m\u001b[0;34m\u001b[0m\u001b[0;34m\u001b[0m\u001b[0m\n\u001b[1;32m    157\u001b[0m             \u001b[0;32mreturn\u001b[0m \u001b[0mtensor\u001b[0m\u001b[0;34m.\u001b[0m\u001b[0mto\u001b[0m\u001b[0;34m(\u001b[0m\u001b[0mdevice\u001b[0m\u001b[0;34m)\u001b[0m\u001b[0;34m\u001b[0m\u001b[0;34m\u001b[0m\u001b[0m\n",
            "\u001b[0;31mKeyboardInterrupt\u001b[0m: "
          ]
        }
      ]
    },
    {
      "cell_type": "code",
      "source": [
        "# Save the model and tokenizer locally\n",
        "model.save_pretrained(\"./fine-tuned-deepseek-math\")\n",
        "tokenizer.save_pretrained(\"./fine-tuned-deepseek-math\")"
      ],
      "metadata": {
        "colab": {
          "base_uri": "https://localhost:8080/"
        },
        "id": "MZPJITTGHXWJ",
        "outputId": "e3633b74-3485-4157-bf52-e8ef663f6f94"
      },
      "execution_count": null,
      "outputs": [
        {
          "output_type": "execute_result",
          "data": {
            "text/plain": [
              "('./fine-tuned-deepseek-math/tokenizer_config.json',\n",
              " './fine-tuned-deepseek-math/special_tokens_map.json',\n",
              " './fine-tuned-deepseek-math/tokenizer.json')"
            ]
          },
          "metadata": {},
          "execution_count": 19
        }
      ]
    },
    {
      "cell_type": "code",
      "source": [
        "prompt = \"Riddle: What number becomes zero when you subtract 15 from half of it ?\\nSolution:\""
      ],
      "metadata": {
        "id": "4IJ41UgYIktz"
      },
      "execution_count": null,
      "outputs": []
    },
    {
      "cell_type": "code",
      "source": [
        "# Tokenize the prompt\n",
        "inputs = tokenizer(prompt, return_tensors=\"pt\")  # `return_tensors=\"pt\"` returns PyTorch tensors"
      ],
      "metadata": {
        "id": "h_N3gTFGGPX6"
      },
      "execution_count": null,
      "outputs": []
    },
    {
      "cell_type": "code",
      "source": [
        "# Move inputs to the same device as the model\n",
        "inputs = {key: value.to(\"cuda\") for key, value in inputs.items()}"
      ],
      "metadata": {
        "id": "-iVrWzfKK5Ly"
      },
      "execution_count": null,
      "outputs": []
    },
    {
      "cell_type": "code",
      "source": [
        "# Generate a response\n",
        "outputs = model.generate(**inputs, max_length=50)  # `max_length` controls the maximum length of the output"
      ],
      "metadata": {
        "id": "DdDxoa2jJ8Xg"
      },
      "execution_count": null,
      "outputs": []
    },
    {
      "cell_type": "code",
      "source": [
        "response = tokenizer.decode(outputs[0], skip_special_tokens=True)\n",
        "print(response)"
      ],
      "metadata": {
        "colab": {
          "base_uri": "https://localhost:8080/"
        },
        "id": "AMtK8PDpLAGJ",
        "outputId": "9e229924-4f31-4609-c544-cacb3962ffc7"
      },
      "execution_count": null,
      "outputs": [
        {
          "output_type": "stream",
          "name": "stdout",
          "text": [
            "Riddle: What number becomes zero when you subtract 15 from half of it ?\n",
            "Solution: Let the number be x.\n",
            "According to the question,\n",
            "x/2 - 15 = 0\n",
            "=> x/2\n"
          ]
        }
      ]
    }
  ]
}